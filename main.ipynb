{
 "cells": [
  {
   "attachments": {},
   "cell_type": "markdown",
   "metadata": {},
   "source": [
    "# Import module"
   ]
  },
  {
   "cell_type": "code",
   "execution_count": 1,
   "metadata": {},
   "outputs": [
    {
     "data": {
      "text/plain": [
       "['NanumMyeongjo',\n",
       " 'NanumBarunGothic',\n",
       " 'Nanum Brush Script',\n",
       " 'NanumMyeongjo Eco',\n",
       " 'NanumGothic Eco',\n",
       " 'Nanum Pen Script',\n",
       " 'NanumGothic Eco',\n",
       " 'NanumGothic',\n",
       " 'NanumMyeongjo Eco',\n",
       " 'NanumGothicCoding',\n",
       " 'NanumGothicCoding',\n",
       " 'NanumSquareRound',\n",
       " 'NanumBarunpen',\n",
       " 'NanumSquare',\n",
       " 'NanumBarunGothic',\n",
       " 'NanumMyeongjo',\n",
       " 'NanumGothic',\n",
       " 'NanumSquareRound',\n",
       " 'NanumGothic Eco',\n",
       " 'NanumMyeongjo',\n",
       " 'NanumSquare',\n",
       " 'NanumSquareRound',\n",
       " 'NanumGothic',\n",
       " 'NanumBarunGothic',\n",
       " 'NanumGothic',\n",
       " 'NanumMyeongjo Eco',\n",
       " 'NanumSquareRound',\n",
       " 'NanumSquare',\n",
       " 'NanumBarunpen',\n",
       " 'NanumBarunGothic',\n",
       " 'NanumSquare']"
      ]
     },
     "execution_count": 1,
     "metadata": {},
     "output_type": "execute_result"
    }
   ],
   "source": [
    "import matplotlib.pyplot as plt\n",
    "import matplotlib.font_manager as fm\n",
    "import matplotlib as mpl\n",
    "font_list = fm.findSystemFonts(fontpaths=None, fontext='ttf')\n",
    "[fm.FontProperties(fname=font).get_name() for font in font_list]"
   ]
  },
  {
   "cell_type": "code",
   "execution_count": 2,
   "metadata": {},
   "outputs": [],
   "source": [
    "from pyproj import Transformer\n",
    "import pyproj\n",
    "from shapely.geometry import Point as point\n",
    "import geopandas as gpd\n",
    "import folium"
   ]
  },
  {
   "cell_type": "code",
   "execution_count": 3,
   "metadata": {},
   "outputs": [],
   "source": [
    "plt.rcParams[\"font.family\"] = 'NanumGothic'"
   ]
  },
  {
   "cell_type": "code",
   "execution_count": 4,
   "metadata": {},
   "outputs": [
    {
     "name": "stdout",
     "output_type": "stream",
     "text": [
      "['/usr/share/fonts/truetype/nanum/NanumMyeongjoBold.ttf', '/usr/share/fonts/truetype/nanum/NanumBarunGothicUltraLight.ttf', '/usr/share/fonts/truetype/nanum/NanumBrush.ttf', '/usr/share/fonts/truetype/nanum/NanumMyeongjoEcoExtraBold.ttf', '/usr/share/fonts/truetype/nanum/NanumGothicEcoExtraBold.ttf', '/usr/share/fonts/truetype/nanum/NanumPen.ttf', '/usr/share/fonts/truetype/nanum/NanumGothicEcoBold.ttf', '/usr/share/fonts/truetype/nanum/NanumGothicBold.ttf', '/usr/share/fonts/truetype/nanum/NanumMyeongjoEcoBold.ttf', '/usr/share/fonts/truetype/nanum/NanumGothicCoding.ttf', '/usr/share/fonts/truetype/nanum/NanumGothicCoding-Bold.ttf', '/usr/share/fonts/truetype/nanum/NanumSquareRoundEB.ttf', '/usr/share/fonts/truetype/nanum/NanumBarunpenB.ttf', '/usr/share/fonts/truetype/nanum/NanumSquareL.ttf', '/usr/share/fonts/truetype/nanum/NanumBarunGothic.ttf', '/usr/share/fonts/truetype/nanum/NanumMyeongjoExtraBold.ttf', '/usr/share/fonts/truetype/nanum/NanumGothicLight.ttf', '/usr/share/fonts/truetype/nanum/NanumSquareRoundB.ttf', '/usr/share/fonts/truetype/nanum/NanumGothicEco.ttf', '/usr/share/fonts/truetype/nanum/NanumMyeongjo.ttf', '/usr/share/fonts/truetype/nanum/NanumSquareB.ttf', '/usr/share/fonts/truetype/nanum/NanumSquareRoundL.ttf', '/usr/share/fonts/truetype/nanum/NanumGothic.ttf', '/usr/share/fonts/truetype/nanum/NanumBarunGothicBold.ttf', '/usr/share/fonts/truetype/nanum/NanumGothicExtraBold.ttf', '/usr/share/fonts/truetype/nanum/NanumMyeongjoEco.ttf', '/usr/share/fonts/truetype/nanum/NanumSquareRoundR.ttf', '/usr/share/fonts/truetype/nanum/NanumSquareR.ttf', '/usr/share/fonts/truetype/nanum/NanumBarunpenR.ttf', '/usr/share/fonts/truetype/nanum/NanumBarunGothicLight.ttf', '/usr/share/fonts/truetype/nanum/NanumSquareEB.ttf']\n"
     ]
    }
   ],
   "source": [
    "print(fm.findSystemFonts(fontpaths=None, fontext='ttf'))"
   ]
  },
  {
   "cell_type": "code",
   "execution_count": 5,
   "metadata": {},
   "outputs": [],
   "source": [
    "import matplotlib.pyplot as plt\n",
    "import matplotlib.font_manager as fm\n",
    "font_location = '/usr/share/fonts/truetype/nanum/NanumGothic.ttf'  #font 경로 설정\n",
    "font_name = fm.FontProperties(fname=font_location).get_name()\n",
    "plt.rc('font', family=font_name)"
   ]
  },
  {
   "cell_type": "code",
   "execution_count": 21,
   "metadata": {},
   "outputs": [],
   "source": [
    "# mpl.rcParams['axes.unicode_minus'] = False"
   ]
  },
  {
   "cell_type": "code",
   "execution_count": 6,
   "metadata": {},
   "outputs": [
    {
     "name": "stdout",
     "output_type": "stream",
     "text": [
      "버전:  3.5.3\n",
      "설치 위치:  /home/dhc4003/ddareung/seoulbike/lib/python3.7/site-packages/matplotlib/__init__.py\n",
      "설정 위치:  /home/dhc4003/.config/matplotlib\n",
      "캐시 위치:  /home/dhc4003/.cache/matplotlib\n"
     ]
    }
   ],
   "source": [
    "print ('버전: ', mpl.__version__)\n",
    "print ('설치 위치: ', mpl.__file__)\n",
    "print ('설정 위치: ', mpl.get_configdir())\n",
    "print ('캐시 위치: ', mpl.get_cachedir())"
   ]
  },
  {
   "cell_type": "code",
   "execution_count": 7,
   "metadata": {},
   "outputs": [],
   "source": [
    "import os\n",
    "import pandas as pd\n",
    "import numpy as np\n",
    "import matplotlib.pyplot as plt\n",
    "import seaborn as sns\n",
    "%matplotlib inline\n",
    "from geopy.distance import geodesic\n",
    "from plotnine import *"
   ]
  },
  {
   "cell_type": "code",
   "execution_count": 8,
   "metadata": {},
   "outputs": [],
   "source": [
    "from sklearn.model_selection import cross_validate\n",
    "from sklearn.model_selection import train_test_split\n",
    "from sklearn.model_selection import GridSearchCV\n",
    "from sklearn.model_selection import cross_val_score\n",
    "from sklearn.model_selection import RepeatedStratifiedKFold\n",
    "from sklearn.model_selection import RandomizedSearchCV"
   ]
  },
  {
   "attachments": {},
   "cell_type": "markdown",
   "metadata": {},
   "source": [
    "# Make dataframe"
   ]
  },
  {
   "cell_type": "code",
   "execution_count": 9,
   "metadata": {},
   "outputs": [],
   "source": [
    "bike_path='data/'\n",
    "bike_list=os.listdir(bike_path)\n",
    "df=[]\n",
    "for file in bike_list:\n",
    "    file_path=os.path.join(bike_path,file)\n",
    "    file_name='bike_'+file_path.split('.')[0][-4:]\n",
    "    file_name=pd.read_csv(file_path,low_memory=False)\n",
    "    df.append(file_name)"
   ]
  },
  {
   "cell_type": "code",
   "execution_count": 10,
   "metadata": {},
   "outputs": [],
   "source": [
    "weather_path='weather/'\n",
    "weather_list=os.listdir(weather_path)\n",
    "weather_df=[]\n",
    "for file in weather_list:\n",
    "    file_path=os.path.join(weather_path,file)\n",
    "    file_name='weather_'+file_path.split('.')[0][-4:]\n",
    "    file_name=pd.read_excel(file_path)\n",
    "    weather_df.append(file_name)"
   ]
  },
  {
   "cell_type": "code",
   "execution_count": 65,
   "metadata": {},
   "outputs": [],
   "source": [
    "df[2][\"대여연월\"] = df[2][\"대여일시\"].apply(lambda x : x[:7])\n",
    "df[2][\"반납연월\"] = df[2][\"반납일시\"].apply(lambda x : x[:7])\n"
   ]
  },
  {
   "cell_type": "code",
   "execution_count": 66,
   "metadata": {},
   "outputs": [],
   "source": [
    "df[2][\"대여일시\"]=pd.to_datetime(df[2][\"대여일시\"])\n",
    "df[2][\"반납일시\"]=pd.to_datetime(df[2][\"반납일시\"])"
   ]
  },
  {
   "cell_type": "code",
   "execution_count": 67,
   "metadata": {},
   "outputs": [],
   "source": [
    "df[2][\"대여연도\"] = df[2][\"대여일시\"].dt.year\n",
    "df[2][\"대여월\"] = df[2][\"대여일시\"].dt.month\n",
    "df[2][\"대여일\"] = df[2][\"대여일시\"].dt.day\n",
    "df[2][\"대여시간\"] = df[2][\"대여일시\"].dt.hour\n",
    "df[2][\"대여요일\"] = df[2][\"대여일시\"].dt.dayofweek\n",
    "df[2][\"대여일자\"] = df[2][\"대여일시\"].dt.date"
   ]
  },
  {
   "cell_type": "code",
   "execution_count": 68,
   "metadata": {},
   "outputs": [
    {
     "data": {
      "text/html": [
       "<div>\n",
       "<style scoped>\n",
       "    .dataframe tbody tr th:only-of-type {\n",
       "        vertical-align: middle;\n",
       "    }\n",
       "\n",
       "    .dataframe tbody tr th {\n",
       "        vertical-align: top;\n",
       "    }\n",
       "\n",
       "    .dataframe thead th {\n",
       "        text-align: right;\n",
       "    }\n",
       "</style>\n",
       "<table border=\"1\" class=\"dataframe\">\n",
       "  <thead>\n",
       "    <tr style=\"text-align: right;\">\n",
       "      <th></th>\n",
       "      <th>대여일시</th>\n",
       "      <th>대여대여소</th>\n",
       "      <th>대여대여소이름</th>\n",
       "      <th>대여거치대</th>\n",
       "      <th>반납일시</th>\n",
       "      <th>반납대여소</th>\n",
       "      <th>반납대여소이름</th>\n",
       "      <th>반납거치대</th>\n",
       "      <th>이용시간</th>\n",
       "      <th>이용거리</th>\n",
       "      <th>...</th>\n",
       "      <th>대여일</th>\n",
       "      <th>대여시간</th>\n",
       "      <th>대여요일</th>\n",
       "      <th>대여일자</th>\n",
       "      <th>반납연도</th>\n",
       "      <th>반납월</th>\n",
       "      <th>반납일</th>\n",
       "      <th>반납시간</th>\n",
       "      <th>반납요일</th>\n",
       "      <th>반납일자</th>\n",
       "    </tr>\n",
       "  </thead>\n",
       "  <tbody>\n",
       "    <tr>\n",
       "      <th>1286708</th>\n",
       "      <td>2020-02-21 18:20:33</td>\n",
       "      <td>1250</td>\n",
       "      <td>문정2동 주민센터</td>\n",
       "      <td>9</td>\n",
       "      <td>2020-02-21 19:13:34</td>\n",
       "      <td>1009</td>\n",
       "      <td>천호역4번출구(현대백화점)</td>\n",
       "      <td>9</td>\n",
       "      <td>49</td>\n",
       "      <td>7520.0</td>\n",
       "      <td>...</td>\n",
       "      <td>21</td>\n",
       "      <td>18</td>\n",
       "      <td>4</td>\n",
       "      <td>2020-02-21</td>\n",
       "      <td>2020</td>\n",
       "      <td>2</td>\n",
       "      <td>21</td>\n",
       "      <td>19</td>\n",
       "      <td>4</td>\n",
       "      <td>2020-02-21</td>\n",
       "    </tr>\n",
       "  </tbody>\n",
       "</table>\n",
       "<p>1 rows × 24 columns</p>\n",
       "</div>"
      ],
      "text/plain": [
       "                       대여일시  대여대여소    대여대여소이름  대여거치대                반납일시  \\\n",
       "1286708 2020-02-21 18:20:33   1250  문정2동 주민센터      9 2020-02-21 19:13:34   \n",
       "\n",
       "         반납대여소         반납대여소이름  반납거치대  이용시간    이용거리  ... 대여일 대여시간  대여요일  \\\n",
       "1286708   1009  천호역4번출구(현대백화점)      9    49  7520.0  ...  21   18     4   \n",
       "\n",
       "               대여일자  반납연도  반납월  반납일 반납시간  반납요일        반납일자  \n",
       "1286708  2020-02-21  2020    2   21   19     4  2020-02-21  \n",
       "\n",
       "[1 rows x 24 columns]"
      ]
     },
     "execution_count": 68,
     "metadata": {},
     "output_type": "execute_result"
    }
   ],
   "source": [
    "df[2][\"반납연도\"] = df[2][\"반납일시\"].dt.year\n",
    "df[2][\"반납월\"] = df[2][\"반납일시\"].dt.month\n",
    "df[2][\"반납일\"] = df[2][\"반납일시\"].dt.day\n",
    "df[2][\"반납시간\"] = df[2][\"반납일시\"].dt.hour\n",
    "df[2][\"반납요일\"] = df[2][\"반납일시\"].dt.dayofweek\n",
    "df[2][\"반납일자\"] = df[2][\"반납일시\"].dt.date\n",
    "\n",
    "df[2].sample()"
   ]
  },
  {
   "cell_type": "code",
   "execution_count": 14,
   "metadata": {},
   "outputs": [
    {
     "data": {
      "text/plain": [
       "<AxesSubplot:xlabel='대여월', ylabel='count'>"
      ]
     },
     "execution_count": 14,
     "metadata": {},
     "output_type": "execute_result"
    },
    {
     "data": {
      "image/png": "[encoded data removed]",
      "text/plain": [
       "<Figure size 1500x500 with 1 Axes>"
      ]
     },
     "metadata": {},
     "output_type": "display_data"
    }
   ],
   "source": [
    "plt.figure(figsize=(15, 5))\n",
    "sns.countplot(data=df[2], x=\"대여월\")"
   ]
  },
  {
   "cell_type": "code",
   "execution_count": 70,
   "metadata": {},
   "outputs": [
    {
     "data": {
      "text/html": [
       "<div>\n",
       "<style scoped>\n",
       "    .dataframe tbody tr th:only-of-type {\n",
       "        vertical-align: middle;\n",
       "    }\n",
       "\n",
       "    .dataframe tbody tr th {\n",
       "        vertical-align: top;\n",
       "    }\n",
       "\n",
       "    .dataframe thead th {\n",
       "        text-align: right;\n",
       "    }\n",
       "</style>\n",
       "<table border=\"1\" class=\"dataframe\">\n",
       "  <thead>\n",
       "    <tr style=\"text-align: right;\">\n",
       "      <th></th>\n",
       "      <th>대여일자</th>\n",
       "      <th>대여연월</th>\n",
       "      <th>대여연도</th>\n",
       "      <th>대여월</th>\n",
       "      <th>대여일</th>\n",
       "      <th>대여요일</th>\n",
       "      <th>대여수</th>\n",
       "    </tr>\n",
       "  </thead>\n",
       "  <tbody>\n",
       "    <tr>\n",
       "      <th>0</th>\n",
       "      <td>2020-01-01</td>\n",
       "      <td>2020-01</td>\n",
       "      <td>2020</td>\n",
       "      <td>1</td>\n",
       "      <td>1</td>\n",
       "      <td>2</td>\n",
       "      <td>15697</td>\n",
       "    </tr>\n",
       "    <tr>\n",
       "      <th>1</th>\n",
       "      <td>2020-01-02</td>\n",
       "      <td>2020-01</td>\n",
       "      <td>2020</td>\n",
       "      <td>1</td>\n",
       "      <td>2</td>\n",
       "      <td>3</td>\n",
       "      <td>27841</td>\n",
       "    </tr>\n",
       "    <tr>\n",
       "      <th>2</th>\n",
       "      <td>2020-01-03</td>\n",
       "      <td>2020-01</td>\n",
       "      <td>2020</td>\n",
       "      <td>1</td>\n",
       "      <td>3</td>\n",
       "      <td>4</td>\n",
       "      <td>29654</td>\n",
       "    </tr>\n",
       "    <tr>\n",
       "      <th>3</th>\n",
       "      <td>2020-01-04</td>\n",
       "      <td>2020-01</td>\n",
       "      <td>2020</td>\n",
       "      <td>1</td>\n",
       "      <td>4</td>\n",
       "      <td>5</td>\n",
       "      <td>24707</td>\n",
       "    </tr>\n",
       "    <tr>\n",
       "      <th>4</th>\n",
       "      <td>2020-01-05</td>\n",
       "      <td>2020-01</td>\n",
       "      <td>2020</td>\n",
       "      <td>1</td>\n",
       "      <td>5</td>\n",
       "      <td>6</td>\n",
       "      <td>22391</td>\n",
       "    </tr>\n",
       "  </tbody>\n",
       "</table>\n",
       "</div>"
      ],
      "text/plain": [
       "         대여일자     대여연월  대여연도  대여월  대여일  대여요일    대여수\n",
       "0  2020-01-01  2020-01  2020    1    1     2  15697\n",
       "1  2020-01-02  2020-01  2020    1    2     3  27841\n",
       "2  2020-01-03  2020-01  2020    1    3     4  29654\n",
       "3  2020-01-04  2020-01  2020    1    4     5  24707\n",
       "4  2020-01-05  2020-01  2020    1    5     6  22391"
      ]
     },
     "execution_count": 70,
     "metadata": {},
     "output_type": "execute_result"
    }
   ],
   "source": [
    "df_rent_group = df[2].groupby([\"대여일자\", \"대여연월\", \"대여연도\", \"대여월\", \"대여일\", \"대여요일\"])[\"대여일시\"].count()\n",
    "df_rent_group.head()\n",
    "df_rent = pd.DataFrame(df_rent_group).reset_index()\n",
    "df_rent.columns = [\"대여일자\", \"대여연월\", \"대여연도\", \n",
    "                   \"대여월\", \"대여일\", \"대여요일\", \"대여수\"]\n",
    "df_rent.head()"
   ]
  },
  {
   "cell_type": "code",
   "execution_count": null,
   "metadata": {},
   "outputs": [],
   "source": [
    "df[2].hist(figsize = (15,15), bins=25)"
   ]
  },
  {
   "cell_type": "code",
   "execution_count": 18,
   "metadata": {},
   "outputs": [
    {
     "data": {
      "text/plain": [
       "<AxesSubplot:xlabel='대여일자'>"
      ]
     },
     "execution_count": 18,
     "metadata": {},
     "output_type": "execute_result"
    },
    {
     "data": {
      "image/png": "[encoded data removed]",
      "text/plain": [
       "<Figure size 1500x500 with 1 Axes>"
      ]
     },
     "metadata": {},
     "output_type": "display_data"
    }
   ],
   "source": [
    "df_rent.groupby('대여일자')['대여수'].mean().plot(rot=30, figsize=(15, 5) ,color='blueviolet')"
   ]
  },
  {
   "cell_type": "code",
   "execution_count": 19,
   "metadata": {},
   "outputs": [
    {
     "data": {
      "text/plain": [
       "<AxesSubplot:xlabel='대여연월', ylabel='대여수'>"
      ]
     },
     "execution_count": 19,
     "metadata": {},
     "output_type": "execute_result"
    },
    {
     "data": {
      "image/png": "[encoded data removed]",
      "text/plain": [
       "<Figure size 1500x500 with 1 Axes>"
      ]
     },
     "metadata": {},
     "output_type": "display_data"
    }
   ],
   "source": [
    "plt.figure(figsize=(15, 5))\n",
    "plt.xticks(rotation=30)\n",
    "sns.barplot(data=df_rent, x=\"대여연월\", y=\"대여수\")\n",
    "sns.pointplot(data=df_rent, x=\"대여연월\", y=\"대여수\")"
   ]
  },
  {
   "cell_type": "code",
   "execution_count": 20,
   "metadata": {},
   "outputs": [
    {
     "data": {
      "text/plain": [
       "대여일자\n",
       "2020-01-01    15697.0\n",
       "2020-01-02    27841.0\n",
       "2020-01-03    29654.0\n",
       "2020-01-04    24707.0\n",
       "2020-01-05    22391.0\n",
       "Name: 대여수, dtype: float64"
      ]
     },
     "execution_count": 20,
     "metadata": {},
     "output_type": "execute_result"
    }
   ],
   "source": [
    "#일자별 대여수 \n",
    "df_rent_day = df_rent.groupby([\"대여일자\"])[\"대여수\"].mean()\n",
    "df_rent_day.head()"
   ]
  },
  {
   "cell_type": "code",
   "execution_count": 21,
   "metadata": {},
   "outputs": [
    {
     "data": {
      "text/plain": [
       "대여연월\n",
       "2020-01    24696.677419\n",
       "2020-02    25319.896552\n",
       "2020-03    47622.451613\n",
       "2020-04    69480.466667\n",
       "2020-05    78288.967742\n",
       "Name: 대여수, dtype: float64"
      ]
     },
     "execution_count": 21,
     "metadata": {},
     "output_type": "execute_result"
    }
   ],
   "source": [
    "#월별 대여수 평균 (sum으로 하면 합)\n",
    "df_rent_month = df_rent.groupby([\"대여연월\"])[\"대여수\"].mean()\n",
    "df_rent_month.head()"
   ]
  },
  {
   "attachments": {},
   "cell_type": "markdown",
   "metadata": {},
   "source": [
    "# 제대로"
   ]
  },
  {
   "cell_type": "code",
   "execution_count": 11,
   "metadata": {},
   "outputs": [],
   "source": [
    "df_2022=pd.read_csv('/home/dhc4003/ddareung/data/seoul_bike_2022.csv',low_memory=False)\n"
   ]
  },
  {
   "cell_type": "code",
   "execution_count": 12,
   "metadata": {},
   "outputs": [
    {
     "data": {
      "text/html": [
       "<div>\n",
       "<style scoped>\n",
       "    .dataframe tbody tr th:only-of-type {\n",
       "        vertical-align: middle;\n",
       "    }\n",
       "\n",
       "    .dataframe tbody tr th {\n",
       "        vertical-align: top;\n",
       "    }\n",
       "\n",
       "    .dataframe thead th {\n",
       "        text-align: right;\n",
       "    }\n",
       "</style>\n",
       "<table border=\"1\" class=\"dataframe\">\n",
       "  <thead>\n",
       "    <tr style=\"text-align: right;\">\n",
       "      <th></th>\n",
       "      <th>대여일시</th>\n",
       "      <th>대여대여소</th>\n",
       "      <th>대여대여소이름</th>\n",
       "      <th>대여거치대</th>\n",
       "      <th>반납일시</th>\n",
       "      <th>반납대여소</th>\n",
       "      <th>반납대여소이름</th>\n",
       "      <th>반납거치대</th>\n",
       "      <th>이용시간</th>\n",
       "      <th>이용거리</th>\n",
       "    </tr>\n",
       "  </thead>\n",
       "  <tbody>\n",
       "    <tr>\n",
       "      <th>0</th>\n",
       "      <td>2022-01-02 16:02:42</td>\n",
       "      <td>3</td>\n",
       "      <td>중랑센터</td>\n",
       "      <td>0</td>\n",
       "      <td>2022-01-02 16:14:14</td>\n",
       "      <td>540</td>\n",
       "      <td>군자역 7번출구 베스트샵 앞</td>\n",
       "      <td>0</td>\n",
       "      <td>11</td>\n",
       "      <td>2419.63</td>\n",
       "    </tr>\n",
       "    <tr>\n",
       "      <th>1</th>\n",
       "      <td>2022-01-06 08:09:11</td>\n",
       "      <td>3</td>\n",
       "      <td>중랑센터</td>\n",
       "      <td>0</td>\n",
       "      <td>2022-01-06 08:19:43</td>\n",
       "      <td>3</td>\n",
       "      <td>중랑센터</td>\n",
       "      <td>0</td>\n",
       "      <td>10</td>\n",
       "      <td>0.00</td>\n",
       "    </tr>\n",
       "    <tr>\n",
       "      <th>2</th>\n",
       "      <td>2022-01-11 17:53:40</td>\n",
       "      <td>3</td>\n",
       "      <td>중랑센터</td>\n",
       "      <td>0</td>\n",
       "      <td>2022-01-11 18:05:07</td>\n",
       "      <td>529</td>\n",
       "      <td>장한평역 8번 출구 앞</td>\n",
       "      <td>0</td>\n",
       "      <td>11</td>\n",
       "      <td>1081.14</td>\n",
       "    </tr>\n",
       "    <tr>\n",
       "      <th>3</th>\n",
       "      <td>2022-01-17 16:02:21</td>\n",
       "      <td>3</td>\n",
       "      <td>중랑센터</td>\n",
       "      <td>0</td>\n",
       "      <td>2022-01-17 16:07:28</td>\n",
       "      <td>529</td>\n",
       "      <td>장한평역 8번 출구 앞</td>\n",
       "      <td>0</td>\n",
       "      <td>5</td>\n",
       "      <td>0.00</td>\n",
       "    </tr>\n",
       "    <tr>\n",
       "      <th>4</th>\n",
       "      <td>2022-01-17 17:57:28</td>\n",
       "      <td>3</td>\n",
       "      <td>중랑센터</td>\n",
       "      <td>0</td>\n",
       "      <td>2022-01-17 18:06:03</td>\n",
       "      <td>529</td>\n",
       "      <td>장한평역 8번 출구 앞</td>\n",
       "      <td>0</td>\n",
       "      <td>8</td>\n",
       "      <td>1121.03</td>\n",
       "    </tr>\n",
       "  </tbody>\n",
       "</table>\n",
       "</div>"
      ],
      "text/plain": [
       "                  대여일시  대여대여소 대여대여소이름  대여거치대                 반납일시  반납대여소  \\\n",
       "0  2022-01-02 16:02:42      3    중랑센터      0  2022-01-02 16:14:14    540   \n",
       "1  2022-01-06 08:09:11      3    중랑센터      0  2022-01-06 08:19:43      3   \n",
       "2  2022-01-11 17:53:40      3    중랑센터      0  2022-01-11 18:05:07    529   \n",
       "3  2022-01-17 16:02:21      3    중랑센터      0  2022-01-17 16:07:28    529   \n",
       "4  2022-01-17 17:57:28      3    중랑센터      0  2022-01-17 18:06:03    529   \n",
       "\n",
       "           반납대여소이름  반납거치대  이용시간     이용거리  \n",
       "0  군자역 7번출구 베스트샵 앞      0    11  2419.63  \n",
       "1             중랑센터      0    10     0.00  \n",
       "2     장한평역 8번 출구 앞      0    11  1081.14  \n",
       "3     장한평역 8번 출구 앞      0     5     0.00  \n",
       "4     장한평역 8번 출구 앞      0     8  1121.03  "
      ]
     },
     "execution_count": 12,
     "metadata": {},
     "output_type": "execute_result"
    }
   ],
   "source": [
    "df_2022.head()"
   ]
  },
  {
   "cell_type": "code",
   "execution_count": 13,
   "metadata": {},
   "outputs": [],
   "source": [
    "df_2022[\"반납연월\"] = df_2022[\"반납일시\"].apply(lambda x : x[:7])\n",
    "df_2022[\"반납일시\"]=pd.to_datetime(df_2022[\"반납일시\"])"
   ]
  },
  {
   "cell_type": "code",
   "execution_count": 14,
   "metadata": {},
   "outputs": [],
   "source": [
    "df_2022[\"반납일시\"]=pd.to_datetime(df_2022[\"반납일시\"])\n",
    "df_2022[\"반납연도\"] = df_2022[\"반납일시\"].dt.year\n",
    "df_2022[\"반납월\"] = df_2022[\"반납일시\"].dt.month\n",
    "df_2022[\"반납일\"] = df_2022[\"반납일시\"].dt.day\n",
    "df_2022[\"반납시간\"] = df_2022[\"반납일시\"].dt.hour\n",
    "df_2022[\"반납요일\"] = df_2022[\"반납일시\"].dt.dayofweek\n",
    "df_2022[\"반납일자\"] = df_2022[\"반납일시\"].dt.date\n"
   ]
  },
  {
   "cell_type": "code",
   "execution_count": 15,
   "metadata": {},
   "outputs": [
    {
     "data": {
      "text/plain": [
       "반납대여소이름          반납대여소\n",
       "(시립)고덕평생학습관      1070      3529\n",
       "(재)FITI시험연구원     2724      9016\n",
       "3645 구역삼세무서 교차로  4902      1814\n",
       "3919 CGV구로 앞     3886      5835\n",
       "3호선 매봉역 3번출구앞    2335     10406\n",
       "                          ...  \n",
       "흥국사 정류장          991        819\n",
       "희성오피앙            1639      7217\n",
       "희훈타워빌 앞          3905      9409\n",
       "힐스테이트에코          2720     20033\n",
       "힐스테이트클래시안아파트     4569      5524\n",
       "Name: 반납일시, Length: 2632, dtype: int64"
      ]
     },
     "execution_count": 15,
     "metadata": {},
     "output_type": "execute_result"
    }
   ],
   "source": [
    "df_return_group = df_2022.groupby([\"반납대여소이름\",\"반납대여소\"])[\"반납일시\"].count()\n",
    "df_return_group"
   ]
  },
  {
   "cell_type": "code",
   "execution_count": 16,
   "metadata": {},
   "outputs": [
    {
     "data": {
      "text/html": [
       "<div>\n",
       "<style scoped>\n",
       "    .dataframe tbody tr th:only-of-type {\n",
       "        vertical-align: middle;\n",
       "    }\n",
       "\n",
       "    .dataframe tbody tr th {\n",
       "        vertical-align: top;\n",
       "    }\n",
       "\n",
       "    .dataframe thead th {\n",
       "        text-align: right;\n",
       "    }\n",
       "</style>\n",
       "<table border=\"1\" class=\"dataframe\">\n",
       "  <thead>\n",
       "    <tr style=\"text-align: right;\">\n",
       "      <th></th>\n",
       "      <th>반납대여소이름</th>\n",
       "      <th>반납대여소</th>\n",
       "      <th>반납수</th>\n",
       "    </tr>\n",
       "  </thead>\n",
       "  <tbody>\n",
       "    <tr>\n",
       "      <th>0</th>\n",
       "      <td>(시립)고덕평생학습관</td>\n",
       "      <td>1070</td>\n",
       "      <td>3529</td>\n",
       "    </tr>\n",
       "    <tr>\n",
       "      <th>1</th>\n",
       "      <td>(재)FITI시험연구원</td>\n",
       "      <td>2724</td>\n",
       "      <td>9016</td>\n",
       "    </tr>\n",
       "    <tr>\n",
       "      <th>2</th>\n",
       "      <td>3645 구역삼세무서 교차로</td>\n",
       "      <td>4902</td>\n",
       "      <td>1814</td>\n",
       "    </tr>\n",
       "    <tr>\n",
       "      <th>3</th>\n",
       "      <td>3919 CGV구로 앞</td>\n",
       "      <td>3886</td>\n",
       "      <td>5835</td>\n",
       "    </tr>\n",
       "    <tr>\n",
       "      <th>4</th>\n",
       "      <td>3호선 매봉역 3번출구앞</td>\n",
       "      <td>2335</td>\n",
       "      <td>10406</td>\n",
       "    </tr>\n",
       "    <tr>\n",
       "      <th>...</th>\n",
       "      <td>...</td>\n",
       "      <td>...</td>\n",
       "      <td>...</td>\n",
       "    </tr>\n",
       "    <tr>\n",
       "      <th>2627</th>\n",
       "      <td>흥국사 정류장</td>\n",
       "      <td>991</td>\n",
       "      <td>819</td>\n",
       "    </tr>\n",
       "    <tr>\n",
       "      <th>2628</th>\n",
       "      <td>희성오피앙</td>\n",
       "      <td>1639</td>\n",
       "      <td>7217</td>\n",
       "    </tr>\n",
       "    <tr>\n",
       "      <th>2629</th>\n",
       "      <td>희훈타워빌 앞</td>\n",
       "      <td>3905</td>\n",
       "      <td>9409</td>\n",
       "    </tr>\n",
       "    <tr>\n",
       "      <th>2630</th>\n",
       "      <td>힐스테이트에코</td>\n",
       "      <td>2720</td>\n",
       "      <td>20033</td>\n",
       "    </tr>\n",
       "    <tr>\n",
       "      <th>2631</th>\n",
       "      <td>힐스테이트클래시안아파트</td>\n",
       "      <td>4569</td>\n",
       "      <td>5524</td>\n",
       "    </tr>\n",
       "  </tbody>\n",
       "</table>\n",
       "<p>2632 rows × 3 columns</p>\n",
       "</div>"
      ],
      "text/plain": [
       "              반납대여소이름  반납대여소    반납수\n",
       "0         (시립)고덕평생학습관   1070   3529\n",
       "1        (재)FITI시험연구원   2724   9016\n",
       "2     3645 구역삼세무서 교차로   4902   1814\n",
       "3        3919 CGV구로 앞   3886   5835\n",
       "4       3호선 매봉역 3번출구앞   2335  10406\n",
       "...               ...    ...    ...\n",
       "2627          흥국사 정류장    991    819\n",
       "2628            희성오피앙   1639   7217\n",
       "2629          희훈타워빌 앞   3905   9409\n",
       "2630          힐스테이트에코   2720  20033\n",
       "2631     힐스테이트클래시안아파트   4569   5524\n",
       "\n",
       "[2632 rows x 3 columns]"
      ]
     },
     "execution_count": 16,
     "metadata": {},
     "output_type": "execute_result"
    }
   ],
   "source": [
    "df_return = pd.DataFrame(df_return_group).reset_index()\n",
    "df_return.columns = [\"반납대여소이름\",\"반납대여소\", \"반납수\"]\n",
    "df_return"
   ]
  },
  {
   "cell_type": "code",
   "execution_count": 25,
   "metadata": {},
   "outputs": [
    {
     "data": {
      "text/html": [
       "<div>\n",
       "<style scoped>\n",
       "    .dataframe tbody tr th:only-of-type {\n",
       "        vertical-align: middle;\n",
       "    }\n",
       "\n",
       "    .dataframe tbody tr th {\n",
       "        vertical-align: top;\n",
       "    }\n",
       "\n",
       "    .dataframe thead th {\n",
       "        text-align: right;\n",
       "    }\n",
       "</style>\n",
       "<table border=\"1\" class=\"dataframe\">\n",
       "  <thead>\n",
       "    <tr style=\"text-align: right;\">\n",
       "      <th></th>\n",
       "      <th>대여소번호</th>\n",
       "      <th>보관소(대여소)명</th>\n",
       "      <th>자치구</th>\n",
       "      <th>상세주소</th>\n",
       "      <th>위도</th>\n",
       "      <th>경도</th>\n",
       "      <th>거치대개수</th>\n",
       "    </tr>\n",
       "  </thead>\n",
       "  <tbody>\n",
       "    <tr>\n",
       "      <th>0</th>\n",
       "      <td>102</td>\n",
       "      <td>망원역 1번출구 앞</td>\n",
       "      <td>마포구</td>\n",
       "      <td>서울특별시 마포구 월드컵로 72</td>\n",
       "      <td>37.555649</td>\n",
       "      <td>126.910629</td>\n",
       "      <td>15</td>\n",
       "    </tr>\n",
       "    <tr>\n",
       "      <th>1</th>\n",
       "      <td>103</td>\n",
       "      <td>망원역 2번출구 앞</td>\n",
       "      <td>마포구</td>\n",
       "      <td>서울특별시 마포구 월드컵로 79</td>\n",
       "      <td>37.554951</td>\n",
       "      <td>126.910835</td>\n",
       "      <td>14</td>\n",
       "    </tr>\n",
       "    <tr>\n",
       "      <th>2</th>\n",
       "      <td>104</td>\n",
       "      <td>합정역 1번출구 앞</td>\n",
       "      <td>마포구</td>\n",
       "      <td>서울특별시 마포구 양화로 59</td>\n",
       "      <td>37.550629</td>\n",
       "      <td>126.914986</td>\n",
       "      <td>13</td>\n",
       "    </tr>\n",
       "    <tr>\n",
       "      <th>3</th>\n",
       "      <td>105</td>\n",
       "      <td>합정역 5번출구 앞</td>\n",
       "      <td>마포구</td>\n",
       "      <td>서울특별시 마포구 양화로 48</td>\n",
       "      <td>37.550007</td>\n",
       "      <td>126.914825</td>\n",
       "      <td>5</td>\n",
       "    </tr>\n",
       "    <tr>\n",
       "      <th>4</th>\n",
       "      <td>106</td>\n",
       "      <td>합정역 7번출구 앞</td>\n",
       "      <td>마포구</td>\n",
       "      <td>서울특별시 마포구 독막로 4</td>\n",
       "      <td>37.548645</td>\n",
       "      <td>126.912826</td>\n",
       "      <td>12</td>\n",
       "    </tr>\n",
       "  </tbody>\n",
       "</table>\n",
       "</div>"
      ],
      "text/plain": [
       "   대여소번호   보관소(대여소)명  자치구               상세주소         위도          경도  거치대개수\n",
       "0    102  망원역 1번출구 앞  마포구  서울특별시 마포구 월드컵로 72  37.555649  126.910629     15\n",
       "1    103  망원역 2번출구 앞  마포구  서울특별시 마포구 월드컵로 79  37.554951  126.910835     14\n",
       "2    104  합정역 1번출구 앞  마포구   서울특별시 마포구 양화로 59  37.550629  126.914986     13\n",
       "3    105  합정역 5번출구 앞  마포구   서울특별시 마포구 양화로 48  37.550007  126.914825      5\n",
       "4    106  합정역 7번출구 앞  마포구    서울특별시 마포구 독막로 4  37.548645  126.912826     12"
      ]
     },
     "execution_count": 25,
     "metadata": {},
     "output_type": "execute_result"
    }
   ],
   "source": [
    "rental_df=pd.read_csv('./rental_spot.csv',low_memory=False,encoding='cp949')\n",
    "del rental_df['LCD']\n",
    "del rental_df['QR']\n",
    "rental_df.head()"
   ]
  },
  {
   "cell_type": "code",
   "execution_count": 38,
   "metadata": {},
   "outputs": [
    {
     "name": "stdout",
     "output_type": "stream",
     "text": [
      "위도: 37.52715683 ,경도: 126.9319\n"
     ]
    }
   ],
   "source": [
    "df_207=rental_df[rental_df['대여소번호']==207]\n",
    "df_207_lat=df_207.iloc[0]['위도']\n",
    "df_207_lon=df_207.iloc[0]['경도']\n",
    "print('위도: {0} ,경도: {1}'.format(df_207_lat,df_207_lon))"
   ]
  },
  {
   "cell_type": "code",
   "execution_count": 78,
   "metadata": {},
   "outputs": [
    {
     "data": {
      "text/html": [
       "<div>\n",
       "<style scoped>\n",
       "    .dataframe tbody tr th:only-of-type {\n",
       "        vertical-align: middle;\n",
       "    }\n",
       "\n",
       "    .dataframe tbody tr th {\n",
       "        vertical-align: top;\n",
       "    }\n",
       "\n",
       "    .dataframe thead th {\n",
       "        text-align: right;\n",
       "    }\n",
       "</style>\n",
       "<table border=\"1\" class=\"dataframe\">\n",
       "  <thead>\n",
       "    <tr style=\"text-align: right;\">\n",
       "      <th></th>\n",
       "      <th>대여소번호</th>\n",
       "      <th>보관소(대여소)명</th>\n",
       "      <th>자치구</th>\n",
       "      <th>상세주소</th>\n",
       "      <th>위도</th>\n",
       "      <th>경도</th>\n",
       "      <th>거치대개수</th>\n",
       "    </tr>\n",
       "  </thead>\n",
       "  <tbody>\n",
       "    <tr>\n",
       "      <th>84</th>\n",
       "      <td>201</td>\n",
       "      <td>진미파라곤 앞</td>\n",
       "      <td>영등포구</td>\n",
       "      <td>서울특별시 영등포구 국회대로76길 10</td>\n",
       "      <td>37.531239</td>\n",
       "      <td>126.921333</td>\n",
       "      <td>15</td>\n",
       "    </tr>\n",
       "    <tr>\n",
       "      <th>85</th>\n",
       "      <td>202</td>\n",
       "      <td>국민일보 앞</td>\n",
       "      <td>영등포구</td>\n",
       "      <td>서울특별시 영등포구 여의공원로 101</td>\n",
       "      <td>37.528816</td>\n",
       "      <td>126.924530</td>\n",
       "      <td>30</td>\n",
       "    </tr>\n",
       "    <tr>\n",
       "      <th>88</th>\n",
       "      <td>205</td>\n",
       "      <td>산업은행 앞</td>\n",
       "      <td>영등포구</td>\n",
       "      <td>서울특별시 영등포구 의사당대로 97</td>\n",
       "      <td>37.526264</td>\n",
       "      <td>126.920509</td>\n",
       "      <td>20</td>\n",
       "    </tr>\n",
       "    <tr>\n",
       "      <th>90</th>\n",
       "      <td>207</td>\n",
       "      <td>여의나루역 1번출구 앞</td>\n",
       "      <td>영등포구</td>\n",
       "      <td>서울특별시 영등포구 여의동로 지하343</td>\n",
       "      <td>37.527157</td>\n",
       "      <td>126.931900</td>\n",
       "      <td>46</td>\n",
       "    </tr>\n",
       "    <tr>\n",
       "      <th>91</th>\n",
       "      <td>209</td>\n",
       "      <td>유진투자증권빌딩 앞</td>\n",
       "      <td>영등포구</td>\n",
       "      <td>서울특별시 영등포구 국제금융로 24</td>\n",
       "      <td>37.524612</td>\n",
       "      <td>126.927834</td>\n",
       "      <td>12</td>\n",
       "    </tr>\n",
       "  </tbody>\n",
       "</table>\n",
       "</div>"
      ],
      "text/plain": [
       "    대여소번호     보관소(대여소)명   자치구                   상세주소         위도          경도  \\\n",
       "84    201       진미파라곤 앞  영등포구  서울특별시 영등포구 국회대로76길 10  37.531239  126.921333   \n",
       "85    202        국민일보 앞  영등포구   서울특별시 영등포구 여의공원로 101  37.528816  126.924530   \n",
       "88    205        산업은행 앞  영등포구    서울특별시 영등포구 의사당대로 97  37.526264  126.920509   \n",
       "90    207  여의나루역 1번출구 앞  영등포구  서울특별시 영등포구 여의동로 지하343  37.527157  126.931900   \n",
       "91    209    유진투자증권빌딩 앞  영등포구    서울특별시 영등포구 국제금융로 24  37.524612  126.927834   \n",
       "\n",
       "    거치대개수  \n",
       "84     15  \n",
       "85     30  \n",
       "88     20  \n",
       "90     46  \n",
       "91     12  "
      ]
     },
     "execution_count": 78,
     "metadata": {},
     "output_type": "execute_result"
    }
   ],
   "source": [
    "near_df_207=rental_df.loc[(rental_df['자치구']=='영등포구') & (rental_df['위도']<37.54) & (rental_df['위도']>37.51)& (rental_df['경도']>126.92) & (rental_df['경도']<126.95)]\n",
    "near_df_207.head()"
   ]
  },
  {
   "cell_type": "code",
   "execution_count": 83,
   "metadata": {},
   "outputs": [],
   "source": [
    "# 지도의 중심 찾기\n",
    "from folium.plugins import MarkerCluster\n",
    "\n",
    "lat=rental_df['위도'].mean()\n",
    "long=rental_df['경도'].mean()\n",
    "myMap = folium.Map([lat, long], zoom_start = 9)\n",
    "\n",
    "coords = []\n",
    "for i in range(len(rental_df)-1):\n",
    "    x = rental_df['위도'][i]\n",
    "    y = rental_df['경도'][i]\n",
    "    coords.append([x, y])\n",
    "    \n",
    "for i in range(len(coords)):\n",
    "    folium.Circle(\n",
    "        location = coords[i],\n",
    "        radius = 150,\n",
    "        color = '#000000',\n",
    "        fill = 'crimson',\n",
    "    ).add_to(myMap)\n",
    "    \n",
    "folium.Marker([37.527157, 126.9319],\n",
    "  popup=\"여의나루역 1번출구 앞\",\n",
    "  icon=folium.Icon(color='green', icon='fa-bicycle',prefix='fa')).add_to(myMap)\n",
    "\n",
    "folium.CircleMarker([37.527157, 126.9319],\n",
    "  radius=100,\n",
    "  color='blue',\n",
    "  fill_color='skyblue').add_to(myMap)\n",
    "\n",
    "def plot(df):\n",
    "    # 리스트를 이용해 여러 행의 데이터를 위,경도로 묶음\n",
    "    locations = list(zip(df.위도, df.경도))\n",
    "    # 반복문을 이용해 locations로 정의한 변수에 해당하는 위치에 자동차 모양의 빨간색 아이콘을 지정했다.\n",
    "    icons = [folium.Icon(icon='fa-bicycle', prefix=\"fa\", color=\"blue\") for _ in range(len(locations))]\n",
    "\n",
    "    # 역시 같은 원리로 아이콘을 클릭했을 때, 팝업이 생성되게 할 예정인데, 먼저 팝업 안에 들어갈 내용을 지정한다.\n",
    "    popup_content = []\n",
    "    for information in df.itertuples():\n",
    "        # 팝업을 클릭했을 때, 시간이 나오게 하고 싶다.\n",
    "        # datetime 컬럼을 pd.to_datetime 기능을 활용하여 hh:mm 포맷으로 time이라는 컬럼을 사전에 미리 만들었다.\n",
    "        content = \"At {}\".format(information.대여소번호)\n",
    "        popup_content.append(content)\n",
    "\n",
    "    # 팝업을 생성한다.\n",
    "    popups = [folium.Popup(content, max_width='100%') for content in popup_content]\n",
    "\n",
    "    # 클러스터를 생성하여 앞에서 지정한 locations, icons, popups를 설정해준다.\n",
    "    cluster = MarkerCluster(locations = locations, icons = icons, popups = popups)\n",
    "    # 지도에 클러스터를 추가.\n",
    "    cluster.add_to(myMap)\n",
    "plot(near_df_207)\n",
    "myMap.save('index.html')"
   ]
  },
  {
   "cell_type": "code",
   "execution_count": 147,
   "metadata": {},
   "outputs": [
    {
     "name": "stdout",
     "output_type": "stream",
     "text": [
      "반납량 많은 상위 대여소 top 10\n",
      "             반납대여소이름  반납대여소    반납수\n",
      "778   뚝섬유원지역 1번출구 앞    502  81191\n",
      "2454     한강공원 망원나들목   4217  75121\n",
      "1831   여의나루역 1번출구 앞    207  67325\n",
      "834     마곡나루역 2번 출구   2715  65651\n",
      "1110        봉림교 교통섬   2102  52390\n",
      "...             ...    ...    ...\n",
      "2042          위트콤공장     11      4\n",
      "2398        테스트 대여소   9979      3\n",
      "2041            위트콤     10      3\n",
      "1252         상암단말정비  99998      2\n",
      "100           _도봉센터   9990      1\n",
      "\n",
      "[2632 rows x 3 columns]\n"
     ]
    }
   ],
   "source": [
    "# 대여량이 많은 상위 대여소 \n",
    "# for i in range(5):\n",
    "#     print('반납량 많은 상위 대여소 top 10\\n',df[i]['반납대여소이름'].value_counts().head(5))\n",
    "print('반납량 많은 상위 대여소 top 10\\n',df_return.sort_values('반납수',ascending=False))"
   ]
  },
  {
   "cell_type": "code",
   "execution_count": null,
   "metadata": {},
   "outputs": [],
   "source": []
  },
  {
   "attachments": {},
   "cell_type": "markdown",
   "metadata": {},
   "source": [
    "## 2018 전처리 한거 좀 column에 작은따옴표 붙어있음"
   ]
  },
  {
   "cell_type": "code",
   "execution_count": 98,
   "metadata": {},
   "outputs": [],
   "source": [
    "print(df[4]['대여대여소이름'].dtypes)\n",
    "df[4]['대여대여소이름']=df[4]['대여대여소이름'].astype('object')\n",
    "df[4]['대여대여소이름']=df[4]['대여대여소이름'].str.replace(\"'\",\"\")\n",
    "#2018\n",
    "df[4].head()\n",
    "df[4]['대여대여소이름']=df[4]['대여대여소이름'].str.strip()"
   ]
  },
  {
   "attachments": {},
   "cell_type": "markdown",
   "metadata": {},
   "source": []
  }
 ],
 "metadata": {
  "kernelspec": {
   "display_name": "seoulbike",
   "language": "python",
   "name": "python3"
  },
  "language_info": {
   "codemirror_mode": {
    "name": "ipython",
    "version": 3
   },
   "file_extension": ".py",
   "mimetype": "text/x-python",
   "name": "python",
   "nbconvert_exporter": "python",
   "pygments_lexer": "ipython3",
   "version": "3.7.13"
  },
  "orig_nbformat": 4,
  "vscode": {
   "interpreter": {
    "hash": "3030dd0efcb9e60c76b222dd94f30a13d82bc6ebbad9b8c1f6346e9f4032faec"
   }
  }
 },
 "nbformat": 4,
 "nbformat_minor": 2
}
