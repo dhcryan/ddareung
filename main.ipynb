{
 "cells": [
  {
   "attachments": {},
   "cell_type": "markdown",
   "metadata": {},
   "source": [
    "# Import module"
   ]
  },
  {
   "cell_type": "code",
   "execution_count": 8,
   "metadata": {},
   "outputs": [],
   "source": [
    "import os\n",
    "import pandas as pd\n",
    "import numpy as np\n",
    "import matplotlib.pyplot as plt\n",
    "import seaborn as sns\n",
    "%matplotlib inline"
   ]
  },
  {
   "cell_type": "code",
   "execution_count": 10,
   "metadata": {},
   "outputs": [],
   "source": [
    "from sklearn.model_selection import cross_validate\n",
    "from sklearn.model_selection import train_test_split\n",
    "from sklearn.model_selection import GridSearchCV\n",
    "from sklearn.model_selection import cross_val_score\n",
    "from sklearn.model_selection import RepeatedStratifiedKFold\n",
    "from sklearn.model_selection import RandomizedSearchCV"
   ]
  },
  {
   "attachments": {},
   "cell_type": "markdown",
   "metadata": {},
   "source": [
    "# Make dataframe"
   ]
  },
  {
   "cell_type": "code",
   "execution_count": 22,
   "metadata": {},
   "outputs": [],
   "source": [
    "bike_path='data/'\n",
    "bike_list=os.listdir(bike_path)\n",
    "df=[]\n",
    "for file in bike_list:\n",
    "    file_path=os.path.join(bike_path,file)\n",
    "    file_name='bike_'+file_path.split('.')[0][-4:]\n",
    "    file_name=pd.read_csv(file_path,low_memory=False)\n",
    "    df.append(file_name)"
   ]
  },
  {
   "cell_type": "code",
   "execution_count": null,
   "metadata": {},
   "outputs": [],
   "source": [
    "weather_path='weather/'\n",
    "weather_list=os.listdir(weather_path)\n",
    "weather_df=[]\n",
    "for file in weather_list:\n",
    "    file_path=os.path.join(weather_path,file)\n",
    "    file_name='weather_'+file_path.split('.')[0][-4:]\n",
    "    file_name=pd.read_xlsx(file_path)\n",
    "    weather_df.append(file_name)"
   ]
  },
  {
   "cell_type": "code",
   "execution_count": 31,
   "metadata": {},
   "outputs": [
    {
     "data": {
      "text/html": [
       "<div>\n",
       "<style scoped>\n",
       "    .dataframe tbody tr th:only-of-type {\n",
       "        vertical-align: middle;\n",
       "    }\n",
       "\n",
       "    .dataframe tbody tr th {\n",
       "        vertical-align: top;\n",
       "    }\n",
       "\n",
       "    .dataframe thead th {\n",
       "        text-align: right;\n",
       "    }\n",
       "</style>\n",
       "<table border=\"1\" class=\"dataframe\">\n",
       "  <thead>\n",
       "    <tr style=\"text-align: right;\">\n",
       "      <th></th>\n",
       "      <th>대여일시</th>\n",
       "      <th>대여대여소</th>\n",
       "      <th>대여대여소이름</th>\n",
       "      <th>대여거치대</th>\n",
       "      <th>반납일시</th>\n",
       "      <th>반납대여소</th>\n",
       "      <th>반납대여소이름</th>\n",
       "      <th>반납거치대</th>\n",
       "      <th>이용시간</th>\n",
       "      <th>이용거리</th>\n",
       "    </tr>\n",
       "  </thead>\n",
       "  <tbody>\n",
       "    <tr>\n",
       "      <th>0</th>\n",
       "      <td>2018-01-01 00:00:10</td>\n",
       "      <td>'227'</td>\n",
       "      <td>' 양평2나들목 보행통로 입구'</td>\n",
       "      <td>9</td>\n",
       "      <td>2018-01-01 00:04:03</td>\n",
       "      <td>'227'</td>\n",
       "      <td>' 양평2나들목 보행통로 입구'</td>\n",
       "      <td>9</td>\n",
       "      <td>3</td>\n",
       "      <td>50.0</td>\n",
       "    </tr>\n",
       "    <tr>\n",
       "      <th>1</th>\n",
       "      <td>2018-01-01 00:00:42</td>\n",
       "      <td>'2219'</td>\n",
       "      <td>' 고속터미널역 8-1번, 8-2번 출구 사이'</td>\n",
       "      <td>15</td>\n",
       "      <td>2018-01-01 00:25:41</td>\n",
       "      <td>'3511'</td>\n",
       "      <td>' 응봉역 1번출구'</td>\n",
       "      <td>9</td>\n",
       "      <td>24</td>\n",
       "      <td>7670.0</td>\n",
       "    </tr>\n",
       "    <tr>\n",
       "      <th>2</th>\n",
       "      <td>2018-01-01 00:00:58</td>\n",
       "      <td>'567'</td>\n",
       "      <td>' 성수역 2번출구 앞'</td>\n",
       "      <td>13</td>\n",
       "      <td>2018-01-01 00:09:33</td>\n",
       "      <td>'3506'</td>\n",
       "      <td>' 영동대교 북단'</td>\n",
       "      <td>2</td>\n",
       "      <td>8</td>\n",
       "      <td>1390.0</td>\n",
       "    </tr>\n",
       "    <tr>\n",
       "      <th>3</th>\n",
       "      <td>2018-01-01 00:01:02</td>\n",
       "      <td>'568'</td>\n",
       "      <td>' 청계8가사거리 부근'</td>\n",
       "      <td>5</td>\n",
       "      <td>2018-01-01 00:10:13</td>\n",
       "      <td>'521'</td>\n",
       "      <td>' 왕십리역 11번 출구 앞'</td>\n",
       "      <td>9</td>\n",
       "      <td>8</td>\n",
       "      <td>1820.0</td>\n",
       "    </tr>\n",
       "    <tr>\n",
       "      <th>4</th>\n",
       "      <td>2018-01-01 00:01:03</td>\n",
       "      <td>'361'</td>\n",
       "      <td>' 동묘앞역 1번출구 뒤'</td>\n",
       "      <td>4</td>\n",
       "      <td>2018-01-01 00:06:18</td>\n",
       "      <td>'383'</td>\n",
       "      <td>' 신당역 12번 출구 뒤'</td>\n",
       "      <td>8</td>\n",
       "      <td>4</td>\n",
       "      <td>850.0</td>\n",
       "    </tr>\n",
       "  </tbody>\n",
       "</table>\n",
       "</div>"
      ],
      "text/plain": [
       "                  대여일시   대여대여소                     대여대여소이름  대여거치대  \\\n",
       "0  2018-01-01 00:00:10   '227'           ' 양평2나들목 보행통로 입구'      9   \n",
       "1  2018-01-01 00:00:42  '2219'  ' 고속터미널역 8-1번, 8-2번 출구 사이'     15   \n",
       "2  2018-01-01 00:00:58   '567'               ' 성수역 2번출구 앞'     13   \n",
       "3  2018-01-01 00:01:02   '568'               ' 청계8가사거리 부근'      5   \n",
       "4  2018-01-01 00:01:03   '361'              ' 동묘앞역 1번출구 뒤'      4   \n",
       "\n",
       "                  반납일시   반납대여소            반납대여소이름  반납거치대  이용시간    이용거리  \n",
       "0  2018-01-01 00:04:03   '227'  ' 양평2나들목 보행통로 입구'      9     3    50.0  \n",
       "1  2018-01-01 00:25:41  '3511'        ' 응봉역 1번출구'      9    24  7670.0  \n",
       "2  2018-01-01 00:09:33  '3506'         ' 영동대교 북단'      2     8  1390.0  \n",
       "3  2018-01-01 00:10:13   '521'   ' 왕십리역 11번 출구 앞'      9     8  1820.0  \n",
       "4  2018-01-01 00:06:18   '383'    ' 신당역 12번 출구 뒤'      8     4   850.0  "
      ]
     },
     "execution_count": 31,
     "metadata": {},
     "output_type": "execute_result"
    }
   ],
   "source": [
    "df[4].head()"
   ]
  }
 ],
 "metadata": {
  "kernelspec": {
   "display_name": "seoulbike",
   "language": "python",
   "name": "python3"
  },
  "language_info": {
   "codemirror_mode": {
    "name": "ipython",
    "version": 3
   },
   "file_extension": ".py",
   "mimetype": "text/x-python",
   "name": "python",
   "nbconvert_exporter": "python",
   "pygments_lexer": "ipython3",
   "version": "3.7.13"
  },
  "orig_nbformat": 4,
  "vscode": {
   "interpreter": {
    "hash": "3030dd0efcb9e60c76b222dd94f30a13d82bc6ebbad9b8c1f6346e9f4032faec"
   }
  }
 },
 "nbformat": 4,
 "nbformat_minor": 2
}
