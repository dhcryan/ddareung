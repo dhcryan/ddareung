{
 "cells": [
  {
   "cell_type": "code",
   "execution_count": 1,
   "metadata": {},
   "outputs": [
    {
     "name": "stdout",
     "output_type": "stream",
     "text": [
      "           count         mean          std  min     25%     50%     75%  \\\n",
      "대여거치대  9988088.0     7.027777     5.284431  0.0     3.0     6.0    10.0   \n",
      "반납거치대  9988088.0     6.992036     5.282682  0.0     3.0     6.0    10.0   \n",
      "이용시간   9988088.0    27.460074    30.540065  0.0     8.0    16.0    37.0   \n",
      "이용거리   9988088.0  4528.781571  9669.448373  0.0  1210.0  2290.0  4810.0   \n",
      "\n",
      "            max  \n",
      "대여거치대      40.0  \n",
      "반납거치대      40.0  \n",
      "이용시간     5940.0  \n",
      "이용거리   255990.0  \n"
     ]
    }
   ],
   "source": [
    "import os\n",
    "import pandas as pd\n",
    "\n",
    "df_2018=pd.read_csv('data/seoul_bike_2018.csv',low_memory=False)\n",
    "df_2019=pd.read_csv('data/seoul_bike_2019.csv',low_memory=False)\n",
    "df_2020=pd.read_csv('data/seoul_bike_2020.csv',low_memory=False)\n",
    "df_2021=pd.read_csv('data/seoul_bike_2021.csv',low_memory=False)\n",
    "df_2022=pd.read_csv('data/seoul_bike_2022.csv',low_memory=False)\n",
    "df_2018.describe().transpose()\n"
   ]
  }
 ],
 "metadata": {
  "kernelspec": {
   "display_name": "seoulbike",
   "language": "python",
   "name": "python3"
  },
  "language_info": {
   "codemirror_mode": {
    "name": "ipython",
    "version": 3
   },
   "file_extension": ".py",
   "mimetype": "text/x-python",
   "name": "python",
   "nbconvert_exporter": "python",
   "pygments_lexer": "ipython3",
   "version": "3.7.13"
  },
  "orig_nbformat": 4,
  "vscode": {
   "interpreter": {
    "hash": "3030dd0efcb9e60c76b222dd94f30a13d82bc6ebbad9b8c1f6346e9f4032faec"
   }
  }
 },
 "nbformat": 4,
 "nbformat_minor": 2
}
