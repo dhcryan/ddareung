{
 "cells": [
  {
   "attachments": {},
   "cell_type": "markdown",
   "metadata": {},
   "source": [
    "# Import module"
   ]
  },
  {
   "cell_type": "code",
   "execution_count": null,
   "metadata": {},
   "outputs": [],
   "source": [
    "import matplotlib.pyplot as plt\n",
    "import matplotlib.font_manager as fm\n",
    "import matplotlib as mpl\n",
    "font_list = fm.findSystemFonts(fontpaths=None, fontext='ttf')\n",
    "[fm.FontProperties(fname=font).get_name() for font in font_list]"
   ]
  },
  {
   "cell_type": "code",
   "execution_count": 2,
   "metadata": {},
   "outputs": [],
   "source": [
    "from pyproj import Transformer\n",
    "import pyproj\n",
    "from shapely.geometry import Point as point\n",
    "import geopandas as gpd\n",
    "import folium"
   ]
  },
  {
   "cell_type": "code",
   "execution_count": 3,
   "metadata": {},
   "outputs": [],
   "source": [
    "plt.rcParams[\"font.family\"] = 'NanumGothic'"
   ]
  },
  {
   "cell_type": "code",
   "execution_count": null,
   "metadata": {},
   "outputs": [],
   "source": [
    "print(fm.findSystemFonts(fontpaths=None, fontext='ttf'))"
   ]
  },
  {
   "cell_type": "code",
   "execution_count": 5,
   "metadata": {},
   "outputs": [],
   "source": [
    "import matplotlib.pyplot as plt\n",
    "import matplotlib.font_manager as fm\n",
    "font_location = '/usr/share/fonts/truetype/nanum/NanumGothic.ttf'  #font 경로 설정\n",
    "font_name = fm.FontProperties(fname=font_location).get_name()\n",
    "plt.rc('font', family=font_name)"
   ]
  },
  {
   "cell_type": "code",
   "execution_count": 21,
   "metadata": {},
   "outputs": [],
   "source": [
    "# mpl.rcParams['axes.unicode_minus'] = False"
   ]
  },
  {
   "cell_type": "code",
   "execution_count": 6,
   "metadata": {},
   "outputs": [
    {
     "name": "stdout",
     "output_type": "stream",
     "text": [
      "버전:  3.5.3\n",
      "설치 위치:  /home/dhc4003/ddareung/seoulbike/lib/python3.7/site-packages/matplotlib/__init__.py\n",
      "설정 위치:  /home/dhc4003/.config/matplotlib\n",
      "캐시 위치:  /home/dhc4003/.cache/matplotlib\n"
     ]
    }
   ],
   "source": [
    "print ('버전: ', mpl.__version__)\n",
    "print ('설치 위치: ', mpl.__file__)\n",
    "print ('설정 위치: ', mpl.get_configdir())\n",
    "print ('캐시 위치: ', mpl.get_cachedir())"
   ]
  },
  {
   "cell_type": "code",
   "execution_count": 7,
   "metadata": {},
   "outputs": [],
   "source": [
    "import os\n",
    "import pandas as pd\n",
    "import numpy as np\n",
    "import matplotlib.pyplot as plt\n",
    "import seaborn as sns\n",
    "%matplotlib inline\n",
    "from geopy.distance import geodesic\n",
    "from plotnine import *"
   ]
  },
  {
   "cell_type": "code",
   "execution_count": 8,
   "metadata": {},
   "outputs": [],
   "source": [
    "from sklearn.model_selection import cross_validate\n",
    "from sklearn.model_selection import train_test_split\n",
    "from sklearn.model_selection import GridSearchCV\n",
    "from sklearn.model_selection import cross_val_score\n",
    "from sklearn.model_selection import RepeatedStratifiedKFold\n",
    "from sklearn.model_selection import RandomizedSearchCV"
   ]
  },
  {
   "attachments": {},
   "cell_type": "markdown",
   "metadata": {},
   "source": [
    "# Make dataframe"
   ]
  },
  {
   "cell_type": "code",
   "execution_count": 9,
   "metadata": {},
   "outputs": [],
   "source": [
    "bike_path='data/'\n",
    "bike_list=os.listdir(bike_path)\n",
    "df=[]\n",
    "for file in bike_list:\n",
    "    file_path=os.path.join(bike_path,file)\n",
    "    file_name='bike_'+file_path.split('.')[0][-4:]\n",
    "    file_name=pd.read_csv(file_path,low_memory=False)\n",
    "    df.append(file_name)"
   ]
  },
  {
   "cell_type": "code",
   "execution_count": 10,
   "metadata": {},
   "outputs": [],
   "source": [
    "weather_path='weather/'\n",
    "weather_list=os.listdir(weather_path)\n",
    "weather_df=[]\n",
    "for file in weather_list:\n",
    "    file_path=os.path.join(weather_path,file)\n",
    "    file_name='weather_'+file_path.split('.')[0][-4:]\n",
    "    file_name=pd.read_excel(file_path)\n",
    "    weather_df.append(file_name)"
   ]
  },
  {
   "cell_type": "code",
   "execution_count": 70,
   "metadata": {},
   "outputs": [
    {
     "data": {
      "text/html": [
       "<div>\n",
       "<style scoped>\n",
       "    .dataframe tbody tr th:only-of-type {\n",
       "        vertical-align: middle;\n",
       "    }\n",
       "\n",
       "    .dataframe tbody tr th {\n",
       "        vertical-align: top;\n",
       "    }\n",
       "\n",
       "    .dataframe thead th {\n",
       "        text-align: right;\n",
       "    }\n",
       "</style>\n",
       "<table border=\"1\" class=\"dataframe\">\n",
       "  <thead>\n",
       "    <tr style=\"text-align: right;\">\n",
       "      <th></th>\n",
       "      <th>대여일자</th>\n",
       "      <th>대여연월</th>\n",
       "      <th>대여연도</th>\n",
       "      <th>대여월</th>\n",
       "      <th>대여일</th>\n",
       "      <th>대여요일</th>\n",
       "      <th>대여수</th>\n",
       "    </tr>\n",
       "  </thead>\n",
       "  <tbody>\n",
       "    <tr>\n",
       "      <th>0</th>\n",
       "      <td>2020-01-01</td>\n",
       "      <td>2020-01</td>\n",
       "      <td>2020</td>\n",
       "      <td>1</td>\n",
       "      <td>1</td>\n",
       "      <td>2</td>\n",
       "      <td>15697</td>\n",
       "    </tr>\n",
       "    <tr>\n",
       "      <th>1</th>\n",
       "      <td>2020-01-02</td>\n",
       "      <td>2020-01</td>\n",
       "      <td>2020</td>\n",
       "      <td>1</td>\n",
       "      <td>2</td>\n",
       "      <td>3</td>\n",
       "      <td>27841</td>\n",
       "    </tr>\n",
       "    <tr>\n",
       "      <th>2</th>\n",
       "      <td>2020-01-03</td>\n",
       "      <td>2020-01</td>\n",
       "      <td>2020</td>\n",
       "      <td>1</td>\n",
       "      <td>3</td>\n",
       "      <td>4</td>\n",
       "      <td>29654</td>\n",
       "    </tr>\n",
       "    <tr>\n",
       "      <th>3</th>\n",
       "      <td>2020-01-04</td>\n",
       "      <td>2020-01</td>\n",
       "      <td>2020</td>\n",
       "      <td>1</td>\n",
       "      <td>4</td>\n",
       "      <td>5</td>\n",
       "      <td>24707</td>\n",
       "    </tr>\n",
       "    <tr>\n",
       "      <th>4</th>\n",
       "      <td>2020-01-05</td>\n",
       "      <td>2020-01</td>\n",
       "      <td>2020</td>\n",
       "      <td>1</td>\n",
       "      <td>5</td>\n",
       "      <td>6</td>\n",
       "      <td>22391</td>\n",
       "    </tr>\n",
       "  </tbody>\n",
       "</table>\n",
       "</div>"
      ],
      "text/plain": [
       "         대여일자     대여연월  대여연도  대여월  대여일  대여요일    대여수\n",
       "0  2020-01-01  2020-01  2020    1    1     2  15697\n",
       "1  2020-01-02  2020-01  2020    1    2     3  27841\n",
       "2  2020-01-03  2020-01  2020    1    3     4  29654\n",
       "3  2020-01-04  2020-01  2020    1    4     5  24707\n",
       "4  2020-01-05  2020-01  2020    1    5     6  22391"
      ]
     },
     "execution_count": 70,
     "metadata": {},
     "output_type": "execute_result"
    }
   ],
   "source": [
    "df_rent_group = df[2].groupby([\"대여일자\", \"대여연월\", \"대여연도\", \"대여월\", \"대여일\", \"대여요일\"])[\"대여일시\"].count()\n",
    "df_rent_group.head()\n",
    "df_rent = pd.DataFrame(df_rent_group).reset_index()\n",
    "df_rent.columns = [\"대여일자\", \"대여연월\", \"대여연도\", \n",
    "                   \"대여월\", \"대여일\", \"대여요일\", \"대여수\"]\n",
    "df_rent.head()"
   ]
  },
  {
   "cell_type": "code",
   "execution_count": null,
   "metadata": {},
   "outputs": [],
   "source": [
    "df[2].hist(figsize = (15,15), bins=25)"
   ]
  },
  {
   "cell_type": "code",
   "execution_count": 18,
   "metadata": {},
   "outputs": [
    {
     "data": {
      "text/plain": [
       "<AxesSubplot:xlabel='대여일자'>"
      ]
     },
     "execution_count": 18,
     "metadata": {},
     "output_type": "execute_result"
    },
    {
     "data": {
      "image/png": "[encoded data removed]",
      "text/plain": [
       "<Figure size 1500x500 with 1 Axes>"
      ]
     },
     "metadata": {},
     "output_type": "display_data"
    }
   ],
   "source": [
    "df_rent.groupby('대여일자')['대여수'].mean().plot(rot=30, figsize=(15, 5) ,color='blueviolet')"
   ]
  },
  {
   "cell_type": "code",
   "execution_count": 19,
   "metadata": {},
   "outputs": [
    {
     "data": {
      "text/plain": [
       "<AxesSubplot:xlabel='대여연월', ylabel='대여수'>"
      ]
     },
     "execution_count": 19,
     "metadata": {},
     "output_type": "execute_result"
    },
    {
     "data": {
      "image/png": "[encoded data removed]",
      "text/plain": [
       "<Figure size 1500x500 with 1 Axes>"
      ]
     },
     "metadata": {},
     "output_type": "display_data"
    }
   ],
   "source": [
    "plt.figure(figsize=(15, 5))\n",
    "plt.xticks(rotation=30)\n",
    "sns.barplot(data=df_rent, x=\"대여연월\", y=\"대여수\")\n",
    "sns.pointplot(data=df_rent, x=\"대여연월\", y=\"대여수\")"
   ]
  },
  {
   "cell_type": "code",
   "execution_count": 20,
   "metadata": {},
   "outputs": [
    {
     "data": {
      "text/plain": [
       "대여일자\n",
       "2020-01-01    15697.0\n",
       "2020-01-02    27841.0\n",
       "2020-01-03    29654.0\n",
       "2020-01-04    24707.0\n",
       "2020-01-05    22391.0\n",
       "Name: 대여수, dtype: float64"
      ]
     },
     "execution_count": 20,
     "metadata": {},
     "output_type": "execute_result"
    }
   ],
   "source": [
    "#일자별 대여수 \n",
    "df_rent_day = df_rent.groupby([\"대여일자\"])[\"대여수\"].mean()\n",
    "df_rent_day.head()"
   ]
  },
  {
   "cell_type": "code",
   "execution_count": 21,
   "metadata": {},
   "outputs": [
    {
     "data": {
      "text/plain": [
       "대여연월\n",
       "2020-01    24696.677419\n",
       "2020-02    25319.896552\n",
       "2020-03    47622.451613\n",
       "2020-04    69480.466667\n",
       "2020-05    78288.967742\n",
       "Name: 대여수, dtype: float64"
      ]
     },
     "execution_count": 21,
     "metadata": {},
     "output_type": "execute_result"
    }
   ],
   "source": [
    "#월별 대여수 평균 (sum으로 하면 합)\n",
    "df_rent_month = df_rent.groupby([\"대여연월\"])[\"대여수\"].mean()\n",
    "df_rent_month.head()"
   ]
  },
  {
   "attachments": {},
   "cell_type": "markdown",
   "metadata": {},
   "source": [
    "# 제대로(2022년도)"
   ]
  },
  {
   "cell_type": "code",
   "execution_count": 127,
   "metadata": {},
   "outputs": [],
   "source": [
    "df_2022=pd.read_csv('/home/dhc4003/ddareung/data/seoul_bike_2022.csv',low_memory=False)"
   ]
  },
  {
   "cell_type": "code",
   "execution_count": 128,
   "metadata": {},
   "outputs": [
    {
     "data": {
      "text/html": [
       "<div>\n",
       "<style scoped>\n",
       "    .dataframe tbody tr th:only-of-type {\n",
       "        vertical-align: middle;\n",
       "    }\n",
       "\n",
       "    .dataframe tbody tr th {\n",
       "        vertical-align: top;\n",
       "    }\n",
       "\n",
       "    .dataframe thead th {\n",
       "        text-align: right;\n",
       "    }\n",
       "</style>\n",
       "<table border=\"1\" class=\"dataframe\">\n",
       "  <thead>\n",
       "    <tr style=\"text-align: right;\">\n",
       "      <th></th>\n",
       "      <th>대여일시</th>\n",
       "      <th>대여대여소</th>\n",
       "      <th>대여대여소이름</th>\n",
       "      <th>대여거치대</th>\n",
       "      <th>반납일시</th>\n",
       "      <th>반납대여소</th>\n",
       "      <th>반납대여소이름</th>\n",
       "      <th>반납거치대</th>\n",
       "      <th>이용시간</th>\n",
       "      <th>이용거리</th>\n",
       "    </tr>\n",
       "  </thead>\n",
       "  <tbody>\n",
       "    <tr>\n",
       "      <th>0</th>\n",
       "      <td>2022-01-02 16:02:42</td>\n",
       "      <td>3</td>\n",
       "      <td>중랑센터</td>\n",
       "      <td>0</td>\n",
       "      <td>2022-01-02 16:14:14</td>\n",
       "      <td>540</td>\n",
       "      <td>군자역 7번출구 베스트샵 앞</td>\n",
       "      <td>0</td>\n",
       "      <td>11</td>\n",
       "      <td>2419.63</td>\n",
       "    </tr>\n",
       "    <tr>\n",
       "      <th>1</th>\n",
       "      <td>2022-01-06 08:09:11</td>\n",
       "      <td>3</td>\n",
       "      <td>중랑센터</td>\n",
       "      <td>0</td>\n",
       "      <td>2022-01-06 08:19:43</td>\n",
       "      <td>3</td>\n",
       "      <td>중랑센터</td>\n",
       "      <td>0</td>\n",
       "      <td>10</td>\n",
       "      <td>0.00</td>\n",
       "    </tr>\n",
       "    <tr>\n",
       "      <th>2</th>\n",
       "      <td>2022-01-11 17:53:40</td>\n",
       "      <td>3</td>\n",
       "      <td>중랑센터</td>\n",
       "      <td>0</td>\n",
       "      <td>2022-01-11 18:05:07</td>\n",
       "      <td>529</td>\n",
       "      <td>장한평역 8번 출구 앞</td>\n",
       "      <td>0</td>\n",
       "      <td>11</td>\n",
       "      <td>1081.14</td>\n",
       "    </tr>\n",
       "    <tr>\n",
       "      <th>3</th>\n",
       "      <td>2022-01-17 16:02:21</td>\n",
       "      <td>3</td>\n",
       "      <td>중랑센터</td>\n",
       "      <td>0</td>\n",
       "      <td>2022-01-17 16:07:28</td>\n",
       "      <td>529</td>\n",
       "      <td>장한평역 8번 출구 앞</td>\n",
       "      <td>0</td>\n",
       "      <td>5</td>\n",
       "      <td>0.00</td>\n",
       "    </tr>\n",
       "    <tr>\n",
       "      <th>4</th>\n",
       "      <td>2022-01-17 17:57:28</td>\n",
       "      <td>3</td>\n",
       "      <td>중랑센터</td>\n",
       "      <td>0</td>\n",
       "      <td>2022-01-17 18:06:03</td>\n",
       "      <td>529</td>\n",
       "      <td>장한평역 8번 출구 앞</td>\n",
       "      <td>0</td>\n",
       "      <td>8</td>\n",
       "      <td>1121.03</td>\n",
       "    </tr>\n",
       "  </tbody>\n",
       "</table>\n",
       "</div>"
      ],
      "text/plain": [
       "                  대여일시  대여대여소 대여대여소이름  대여거치대                 반납일시  반납대여소  \\\n",
       "0  2022-01-02 16:02:42      3    중랑센터      0  2022-01-02 16:14:14    540   \n",
       "1  2022-01-06 08:09:11      3    중랑센터      0  2022-01-06 08:19:43      3   \n",
       "2  2022-01-11 17:53:40      3    중랑센터      0  2022-01-11 18:05:07    529   \n",
       "3  2022-01-17 16:02:21      3    중랑센터      0  2022-01-17 16:07:28    529   \n",
       "4  2022-01-17 17:57:28      3    중랑센터      0  2022-01-17 18:06:03    529   \n",
       "\n",
       "           반납대여소이름  반납거치대  이용시간     이용거리  \n",
       "0  군자역 7번출구 베스트샵 앞      0    11  2419.63  \n",
       "1             중랑센터      0    10     0.00  \n",
       "2     장한평역 8번 출구 앞      0    11  1081.14  \n",
       "3     장한평역 8번 출구 앞      0     5     0.00  \n",
       "4     장한평역 8번 출구 앞      0     8  1121.03  "
      ]
     },
     "execution_count": 128,
     "metadata": {},
     "output_type": "execute_result"
    }
   ],
   "source": [
    "df_2022.head()"
   ]
  },
  {
   "attachments": {},
   "cell_type": "markdown",
   "metadata": {},
   "source": [
    "### 보니까 대여소가 102번호 이상인거부터 5855 이하까지 유효"
   ]
  },
  {
   "cell_type": "code",
   "execution_count": 151,
   "metadata": {},
   "outputs": [
    {
     "data": {
      "text/html": [
       "<div>\n",
       "<style scoped>\n",
       "    .dataframe tbody tr th:only-of-type {\n",
       "        vertical-align: middle;\n",
       "    }\n",
       "\n",
       "    .dataframe tbody tr th {\n",
       "        vertical-align: top;\n",
       "    }\n",
       "\n",
       "    .dataframe thead th {\n",
       "        text-align: right;\n",
       "    }\n",
       "</style>\n",
       "<table border=\"1\" class=\"dataframe\">\n",
       "  <thead>\n",
       "    <tr style=\"text-align: right;\">\n",
       "      <th></th>\n",
       "      <th>대여일시</th>\n",
       "      <th>대여대여소</th>\n",
       "      <th>대여대여소이름</th>\n",
       "      <th>대여거치대</th>\n",
       "      <th>반납일시</th>\n",
       "      <th>반납대여소</th>\n",
       "      <th>반납대여소이름</th>\n",
       "      <th>반납거치대</th>\n",
       "      <th>이용시간</th>\n",
       "      <th>이용거리</th>\n",
       "    </tr>\n",
       "  </thead>\n",
       "  <tbody>\n",
       "    <tr>\n",
       "      <th>18274758</th>\n",
       "      <td>2022-06-28 21:21:40</td>\n",
       "      <td>255</td>\n",
       "      <td>도림사거리</td>\n",
       "      <td>0</td>\n",
       "      <td>2022-06-28 21:28:13</td>\n",
       "      <td>5852</td>\n",
       "      <td>대림동현대2차 201동 앞</td>\n",
       "      <td>0</td>\n",
       "      <td>6</td>\n",
       "      <td>846.63</td>\n",
       "    </tr>\n",
       "    <tr>\n",
       "      <th>18274759</th>\n",
       "      <td>2022-06-29 02:53:22</td>\n",
       "      <td>281</td>\n",
       "      <td>신동아아파트 앞</td>\n",
       "      <td>99</td>\n",
       "      <td>2022-06-29 02:59:24</td>\n",
       "      <td>5852</td>\n",
       "      <td>대림동현대2차 201동 앞</td>\n",
       "      <td>99</td>\n",
       "      <td>6</td>\n",
       "      <td>620.00</td>\n",
       "    </tr>\n",
       "    <tr>\n",
       "      <th>18274760</th>\n",
       "      <td>2022-06-29 10:15:15</td>\n",
       "      <td>1961</td>\n",
       "      <td>신도림테크노근린공원</td>\n",
       "      <td>0</td>\n",
       "      <td>2022-06-29 10:20:31</td>\n",
       "      <td>5852</td>\n",
       "      <td>대림동현대2차 201동 앞</td>\n",
       "      <td>0</td>\n",
       "      <td>5</td>\n",
       "      <td>750.51</td>\n",
       "    </tr>\n",
       "    <tr>\n",
       "      <th>18274761</th>\n",
       "      <td>2022-06-29 14:49:09</td>\n",
       "      <td>1961</td>\n",
       "      <td>신도림테크노근린공원</td>\n",
       "      <td>0</td>\n",
       "      <td>2022-06-29 15:49:09</td>\n",
       "      <td>5852</td>\n",
       "      <td>대림동현대2차 201동 앞</td>\n",
       "      <td>0</td>\n",
       "      <td>60</td>\n",
       "      <td>820.00</td>\n",
       "    </tr>\n",
       "    <tr>\n",
       "      <th>18274762</th>\n",
       "      <td>2022-06-30 22:24:05</td>\n",
       "      <td>1913</td>\n",
       "      <td>구로리공원</td>\n",
       "      <td>0</td>\n",
       "      <td>2022-06-30 22:34:23</td>\n",
       "      <td>5852</td>\n",
       "      <td>대림동현대2차 201동 앞</td>\n",
       "      <td>0</td>\n",
       "      <td>10</td>\n",
       "      <td>1671.88</td>\n",
       "    </tr>\n",
       "  </tbody>\n",
       "</table>\n",
       "</div>"
      ],
      "text/plain": [
       "                         대여일시  대여대여소     대여대여소이름  대여거치대                 반납일시  \\\n",
       "18274758  2022-06-28 21:21:40    255       도림사거리      0  2022-06-28 21:28:13   \n",
       "18274759  2022-06-29 02:53:22    281    신동아아파트 앞     99  2022-06-29 02:59:24   \n",
       "18274760  2022-06-29 10:15:15   1961  신도림테크노근린공원      0  2022-06-29 10:20:31   \n",
       "18274761  2022-06-29 14:49:09   1961  신도림테크노근린공원      0  2022-06-29 15:49:09   \n",
       "18274762  2022-06-30 22:24:05   1913       구로리공원      0  2022-06-30 22:34:23   \n",
       "\n",
       "          반납대여소         반납대여소이름  반납거치대  이용시간     이용거리  \n",
       "18274758   5852  대림동현대2차 201동 앞      0     6   846.63  \n",
       "18274759   5852  대림동현대2차 201동 앞     99     6   620.00  \n",
       "18274760   5852  대림동현대2차 201동 앞      0     5   750.51  \n",
       "18274761   5852  대림동현대2차 201동 앞      0    60   820.00  \n",
       "18274762   5852  대림동현대2차 201동 앞      0    10  1671.88  "
      ]
     },
     "execution_count": 151,
     "metadata": {},
     "output_type": "execute_result"
    }
   ],
   "source": [
    "df_2022=df_2022[(df_2022.loc[:,'대여대여소']>=102) & (df_2022.loc[:,'대여대여소']<=5855) & (df_2022.loc[:,'반납대여소']>=102) & (df_2022.loc[:,'반납대여소']<=5855)]\n",
    "df_2022.tail()"
   ]
  },
  {
   "cell_type": "code",
   "execution_count": 105,
   "metadata": {},
   "outputs": [],
   "source": [
    "df_2022[\"대여연월\"] = df_2022[\"대여일시\"].apply(lambda x : x[:7])\n",
    "df_2022[\"대여일시\"]=pd.to_datetime(df_2022[\"대여일시\"])\n",
    "\n",
    "df_2022[\"대여연도\"] = df_2022[\"대여일시\"].dt.year\n",
    "df_2022[\"대여월\"] = df_2022[\"대여일시\"].dt.month\n",
    "df_2022[\"대여일\"] = df_2022[\"대여일시\"].dt.day\n",
    "df_2022[\"대여시간\"] = df_2022[\"대여일시\"].dt.hour\n",
    "df_2022[\"대여요일\"] = df_2022[\"대여일시\"].dt.dayofweek\n",
    "df_2022[\"대여일자\"] = df_2022[\"대여일시\"].dt.date\n",
    "\n",
    "df_2022[\"반납연월\"] = df_2022[\"반납일시\"].apply(lambda x : x[:7])\n",
    "df_2022[\"반납일시\"]=pd.to_datetime(df_2022[\"반납일시\"])\n",
    "\n",
    "df_2022[\"반납일시\"]=pd.to_datetime(df_2022[\"반납일시\"])\n",
    "df_2022[\"반납연도\"] = df_2022[\"반납일시\"].dt.year\n",
    "df_2022[\"반납월\"] = df_2022[\"반납일시\"].dt.month\n",
    "df_2022[\"반납일\"] = df_2022[\"반납일시\"].dt.day\n",
    "df_2022[\"반납시간\"] = df_2022[\"반납일시\"].dt.hour\n",
    "df_2022[\"반납요일\"] = df_2022[\"반납일시\"].dt.dayofweek\n",
    "df_2022[\"반납일자\"] = df_2022[\"반납일시\"].dt.date"
   ]
  },
  {
   "cell_type": "code",
   "execution_count": 111,
   "metadata": {},
   "outputs": [
    {
     "data": {
      "text/plain": [
       "월    2696927\n",
       "화    2812707\n",
       "수    2599107\n",
       "목    2631359\n",
       "금    2776369\n",
       "토    2474742\n",
       "일    2283619\n",
       "dtype: int64"
      ]
     },
     "execution_count": 111,
     "metadata": {},
     "output_type": "execute_result"
    }
   ],
   "source": [
    "#요일별 이용량 알아보기\n",
    "use_by_dayofweek = df_2022.groupby('대여요일').size()\n",
    "use_by_dayofweek.index = \"월 화 수 목 금 토 일\".split()\n",
    "use_by_dayofweek"
   ]
  },
  {
   "cell_type": "code",
   "execution_count": 114,
   "metadata": {},
   "outputs": [
    {
     "data": {
      "image/png": "[encoded data removed]",
      "text/plain": [
       "<Figure size 1000x400 with 1 Axes>"
      ]
     },
     "metadata": {},
     "output_type": "display_data"
    }
   ],
   "source": [
    "ax = use_by_dayofweek.plot.bar(\n",
    "    rot=0,\n",
    "    title=\"요일에 따른 이용량\",\n",
    "    figsize=(10, 4)\n",
    ")\n",
    "ax.set_frame_on(False)"
   ]
  },
  {
   "cell_type": "code",
   "execution_count": 118,
   "metadata": {},
   "outputs": [
    {
     "data": {
      "text/plain": [
       "<matplotlib.legend.Legend at 0x7f5d1c392390>"
      ]
     },
     "execution_count": 118,
     "metadata": {},
     "output_type": "execute_result"
    },
    {
     "data": {
      "image/png": "[encoded data removed]",
      "text/plain": [
       "<Figure size 1000x400 with 1 Axes>"
      ]
     },
     "metadata": {},
     "output_type": "display_data"
    }
   ],
   "source": [
    "# 평일\n",
    "\n",
    "ax = pd.DataFrame(\n",
    "    data={\n",
    "        \"대여량\": df_2022[df_2022['대여요일'] < 5].groupby('대여시간').size() // 5,\n",
    "        \"반납량\": df_2022[df_2022['대여요일'] < 5].groupby('반납시간').size() // 5\n",
    "    }\n",
    ").plot.bar(\n",
    "    rot=0,\n",
    "    xlabel=\"시\",\n",
    "    title=\"시간에 따른 평균 이용량(평일)\",\n",
    "    figsize=(10, 4)\n",
    ")\n",
    "ax.set_frame_on(False)\n",
    "ax.legend(frameon=False)\n",
    "\n"
   ]
  },
  {
   "cell_type": "code",
   "execution_count": 119,
   "metadata": {},
   "outputs": [
    {
     "data": {
      "image/png": "[encoded data removed]",
      "text/plain": [
       "<Figure size 1000x400 with 1 Axes>"
      ]
     },
     "metadata": {},
     "output_type": "display_data"
    }
   ],
   "source": [
    "# 주말\n",
    "\n",
    "ax = pd.DataFrame(\n",
    "    data={\n",
    "        \"대여량\": df_2022[df_2022['대여요일'] >= 5].groupby('대여시간').size() // 2,\n",
    "        \"반납량\": df_2022[df_2022['대여요일'] >= 5].groupby('반납시간').size() // 2\n",
    "    }\n",
    ").plot.bar(\n",
    "    rot=0,\n",
    "    xlabel=\"시\",\n",
    "    title=\"시간에 따른 평균 이용량(주말)\",\n",
    "    figsize=(10, 4)\n",
    ")\n",
    "ax.set_frame_on(False)\n",
    "ax.legend(frameon=False);"
   ]
  },
  {
   "cell_type": "code",
   "execution_count": 117,
   "metadata": {},
   "outputs": [
    {
     "data": {
      "image/png": "[encoded data removed]",
      "text/plain": [
       "<Figure size 1000x400 with 1 Axes>"
      ]
     },
     "metadata": {},
     "output_type": "display_data"
    }
   ],
   "source": [
    "# 시간대별 이용량 살펴보기\n",
    "ax = pd.DataFrame(\n",
    "    data={\n",
    "        \"대여량\": df_2022.groupby('대여시간').size() // 7,\n",
    "        \"반납량\": df_2022.groupby('반납시간').size() // 7\n",
    "    }\n",
    ").plot.bar(\n",
    "    rot=0,\n",
    "    xlabel=\"시\",\n",
    "    title=\"시간에 따른 평균 이용량(주 전체)\",\n",
    "    figsize=(10, 4)\n",
    ")\n",
    "ax.set_frame_on(False)\n",
    "ax.legend(frameon=False);"
   ]
  },
  {
   "attachments": {},
   "cell_type": "markdown",
   "metadata": {},
   "source": [
    "평일의 경우, 대여/반납 시간대가 모두 8시와 18시에 몰려있다. 주로 출퇴근 시간에 몰린듯 하다.\n",
    "\n",
    "주말의 경우, 밤시간대로 갈수록 몰린다. 주로 18시 전후로 최고치를 찍는다.\n",
    "\n",
    "한편, 출근시간 제외하고, 일반적으로 낮에는 대여량 > 반납량이고, 밤에는 그 반대다."
   ]
  },
  {
   "attachments": {},
   "cell_type": "markdown",
   "metadata": {},
   "source": [
    "## 평일에서의 시간대별 사용량을 살펴보자!"
   ]
  },
  {
   "cell_type": "code",
   "execution_count": 124,
   "metadata": {},
   "outputs": [
    {
     "data": {
      "text/html": [
       "<div>\n",
       "<style scoped>\n",
       "    .dataframe tbody tr th:only-of-type {\n",
       "        vertical-align: middle;\n",
       "    }\n",
       "\n",
       "    .dataframe tbody tr th {\n",
       "        vertical-align: top;\n",
       "    }\n",
       "\n",
       "    .dataframe thead th {\n",
       "        text-align: right;\n",
       "    }\n",
       "</style>\n",
       "<table border=\"1\" class=\"dataframe\">\n",
       "  <thead>\n",
       "    <tr style=\"text-align: right;\">\n",
       "      <th></th>\n",
       "      <th>대여대여소</th>\n",
       "      <th>대여지역</th>\n",
       "    </tr>\n",
       "  </thead>\n",
       "  <tbody>\n",
       "    <tr>\n",
       "      <th>0</th>\n",
       "      <td>102</td>\n",
       "      <td>마포구</td>\n",
       "    </tr>\n",
       "    <tr>\n",
       "      <th>1</th>\n",
       "      <td>103</td>\n",
       "      <td>마포구</td>\n",
       "    </tr>\n",
       "    <tr>\n",
       "      <th>2</th>\n",
       "      <td>104</td>\n",
       "      <td>마포구</td>\n",
       "    </tr>\n",
       "    <tr>\n",
       "      <th>3</th>\n",
       "      <td>105</td>\n",
       "      <td>마포구</td>\n",
       "    </tr>\n",
       "    <tr>\n",
       "      <th>4</th>\n",
       "      <td>106</td>\n",
       "      <td>마포구</td>\n",
       "    </tr>\n",
       "    <tr>\n",
       "      <th>...</th>\n",
       "      <td>...</td>\n",
       "      <td>...</td>\n",
       "    </tr>\n",
       "    <tr>\n",
       "      <th>2648</th>\n",
       "      <td>5851</td>\n",
       "      <td>영등포구</td>\n",
       "    </tr>\n",
       "    <tr>\n",
       "      <th>2649</th>\n",
       "      <td>5852</td>\n",
       "      <td>영등포구</td>\n",
       "    </tr>\n",
       "    <tr>\n",
       "      <th>2650</th>\n",
       "      <td>5853</td>\n",
       "      <td>영등포구</td>\n",
       "    </tr>\n",
       "    <tr>\n",
       "      <th>2651</th>\n",
       "      <td>5854</td>\n",
       "      <td>영등포구</td>\n",
       "    </tr>\n",
       "    <tr>\n",
       "      <th>2652</th>\n",
       "      <td>5855</td>\n",
       "      <td>영등포구</td>\n",
       "    </tr>\n",
       "  </tbody>\n",
       "</table>\n",
       "<p>2653 rows × 2 columns</p>\n",
       "</div>"
      ],
      "text/plain": [
       "      대여대여소  대여지역\n",
       "0       102   마포구\n",
       "1       103   마포구\n",
       "2       104   마포구\n",
       "3       105   마포구\n",
       "4       106   마포구\n",
       "...     ...   ...\n",
       "2648   5851  영등포구\n",
       "2649   5852  영등포구\n",
       "2650   5853  영등포구\n",
       "2651   5854  영등포구\n",
       "2652   5855  영등포구\n",
       "\n",
       "[2653 rows x 2 columns]"
      ]
     },
     "execution_count": 124,
     "metadata": {},
     "output_type": "execute_result"
    }
   ],
   "source": [
    "### 거치소 dataframe\n",
    "rental_df=pd.read_csv('./rental_spot.csv',low_memory=False,encoding='cp949')\n",
    "del rental_df['LCD']\n",
    "del rental_df['QR']\n",
    "rental_df_gu=rental_df[['대여소번호','자치구']]\n",
    "rental_df_gu.columns=['대여대여소','대여지역']\n",
    "rental_df_gu"
   ]
  },
  {
   "cell_type": "code",
   "execution_count": 130,
   "metadata": {},
   "outputs": [
    {
     "name": "stdout",
     "output_type": "stream",
     "text": [
      "<class 'pandas.core.frame.DataFrame'>\n",
      "RangeIndex: 2653 entries, 0 to 2652\n",
      "Data columns (total 2 columns):\n",
      " #   Column  Non-Null Count  Dtype \n",
      "---  ------  --------------  ----- \n",
      " 0   대여대여소   2653 non-null   int64 \n",
      " 1   대여지역    2653 non-null   object\n",
      "dtypes: int64(1), object(1)\n",
      "memory usage: 41.6+ KB\n"
     ]
    }
   ],
   "source": [
    "rental_df_gu.info()"
   ]
  },
  {
   "cell_type": "code",
   "execution_count": 155,
   "metadata": {},
   "outputs": [
    {
     "data": {
      "text/html": [
       "<div>\n",
       "<style scoped>\n",
       "    .dataframe tbody tr th:only-of-type {\n",
       "        vertical-align: middle;\n",
       "    }\n",
       "\n",
       "    .dataframe tbody tr th {\n",
       "        vertical-align: top;\n",
       "    }\n",
       "\n",
       "    .dataframe thead th {\n",
       "        text-align: right;\n",
       "    }\n",
       "</style>\n",
       "<table border=\"1\" class=\"dataframe\">\n",
       "  <thead>\n",
       "    <tr style=\"text-align: right;\">\n",
       "      <th></th>\n",
       "      <th>대여일시</th>\n",
       "      <th>대여대여소</th>\n",
       "      <th>대여대여소이름</th>\n",
       "      <th>대여거치대</th>\n",
       "      <th>반납일시</th>\n",
       "      <th>반납대여소</th>\n",
       "      <th>반납대여소이름</th>\n",
       "      <th>반납거치대</th>\n",
       "      <th>이용시간</th>\n",
       "      <th>이용거리</th>\n",
       "    </tr>\n",
       "  </thead>\n",
       "  <tbody>\n",
       "    <tr>\n",
       "      <th>18274663</th>\n",
       "      <td>2022-06-16 19:13:38</td>\n",
       "      <td>1853</td>\n",
       "      <td>서울디자인직업전문학교 앞</td>\n",
       "      <td>0</td>\n",
       "      <td>2022-06-16 19:52:12</td>\n",
       "      <td>5852</td>\n",
       "      <td>대림동현대2차 201동 앞</td>\n",
       "      <td>0</td>\n",
       "      <td>38</td>\n",
       "      <td>4269.48</td>\n",
       "    </tr>\n",
       "    <tr>\n",
       "      <th>18274664</th>\n",
       "      <td>2022-06-16 19:55:21</td>\n",
       "      <td>251</td>\n",
       "      <td>서울지방병무청 버스정류장</td>\n",
       "      <td>0</td>\n",
       "      <td>2022-06-16 20:40:11</td>\n",
       "      <td>5852</td>\n",
       "      <td>대림동현대2차 201동 앞</td>\n",
       "      <td>0</td>\n",
       "      <td>44</td>\n",
       "      <td>6790.00</td>\n",
       "    </tr>\n",
       "    <tr>\n",
       "      <th>18274665</th>\n",
       "      <td>2022-06-16 22:51:32</td>\n",
       "      <td>1912</td>\n",
       "      <td>한신휴아파트 앞</td>\n",
       "      <td>0</td>\n",
       "      <td>2022-06-16 23:04:04</td>\n",
       "      <td>5852</td>\n",
       "      <td>대림동현대2차 201동 앞</td>\n",
       "      <td>0</td>\n",
       "      <td>12</td>\n",
       "      <td>0.00</td>\n",
       "    </tr>\n",
       "    <tr>\n",
       "      <th>18274666</th>\n",
       "      <td>2022-06-17 01:21:38</td>\n",
       "      <td>1913</td>\n",
       "      <td>구로리공원</td>\n",
       "      <td>0</td>\n",
       "      <td>2022-06-17 01:31:46</td>\n",
       "      <td>5852</td>\n",
       "      <td>대림동현대2차 201동 앞</td>\n",
       "      <td>0</td>\n",
       "      <td>10</td>\n",
       "      <td>1340.34</td>\n",
       "    </tr>\n",
       "    <tr>\n",
       "      <th>18274667</th>\n",
       "      <td>2022-06-17 08:06:20</td>\n",
       "      <td>731</td>\n",
       "      <td>서울시 도로환경관리센터</td>\n",
       "      <td>0</td>\n",
       "      <td>2022-06-17 08:24:51</td>\n",
       "      <td>5852</td>\n",
       "      <td>대림동현대2차 201동 앞</td>\n",
       "      <td>0</td>\n",
       "      <td>18</td>\n",
       "      <td>4470.00</td>\n",
       "    </tr>\n",
       "    <tr>\n",
       "      <th>...</th>\n",
       "      <td>...</td>\n",
       "      <td>...</td>\n",
       "      <td>...</td>\n",
       "      <td>...</td>\n",
       "      <td>...</td>\n",
       "      <td>...</td>\n",
       "      <td>...</td>\n",
       "      <td>...</td>\n",
       "      <td>...</td>\n",
       "      <td>...</td>\n",
       "    </tr>\n",
       "    <tr>\n",
       "      <th>18274758</th>\n",
       "      <td>2022-06-28 21:21:40</td>\n",
       "      <td>255</td>\n",
       "      <td>도림사거리</td>\n",
       "      <td>0</td>\n",
       "      <td>2022-06-28 21:28:13</td>\n",
       "      <td>5852</td>\n",
       "      <td>대림동현대2차 201동 앞</td>\n",
       "      <td>0</td>\n",
       "      <td>6</td>\n",
       "      <td>846.63</td>\n",
       "    </tr>\n",
       "    <tr>\n",
       "      <th>18274759</th>\n",
       "      <td>2022-06-29 02:53:22</td>\n",
       "      <td>281</td>\n",
       "      <td>신동아아파트 앞</td>\n",
       "      <td>99</td>\n",
       "      <td>2022-06-29 02:59:24</td>\n",
       "      <td>5852</td>\n",
       "      <td>대림동현대2차 201동 앞</td>\n",
       "      <td>99</td>\n",
       "      <td>6</td>\n",
       "      <td>620.00</td>\n",
       "    </tr>\n",
       "    <tr>\n",
       "      <th>18274760</th>\n",
       "      <td>2022-06-29 10:15:15</td>\n",
       "      <td>1961</td>\n",
       "      <td>신도림테크노근린공원</td>\n",
       "      <td>0</td>\n",
       "      <td>2022-06-29 10:20:31</td>\n",
       "      <td>5852</td>\n",
       "      <td>대림동현대2차 201동 앞</td>\n",
       "      <td>0</td>\n",
       "      <td>5</td>\n",
       "      <td>750.51</td>\n",
       "    </tr>\n",
       "    <tr>\n",
       "      <th>18274761</th>\n",
       "      <td>2022-06-29 14:49:09</td>\n",
       "      <td>1961</td>\n",
       "      <td>신도림테크노근린공원</td>\n",
       "      <td>0</td>\n",
       "      <td>2022-06-29 15:49:09</td>\n",
       "      <td>5852</td>\n",
       "      <td>대림동현대2차 201동 앞</td>\n",
       "      <td>0</td>\n",
       "      <td>60</td>\n",
       "      <td>820.00</td>\n",
       "    </tr>\n",
       "    <tr>\n",
       "      <th>18274762</th>\n",
       "      <td>2022-06-30 22:24:05</td>\n",
       "      <td>1913</td>\n",
       "      <td>구로리공원</td>\n",
       "      <td>0</td>\n",
       "      <td>2022-06-30 22:34:23</td>\n",
       "      <td>5852</td>\n",
       "      <td>대림동현대2차 201동 앞</td>\n",
       "      <td>0</td>\n",
       "      <td>10</td>\n",
       "      <td>1671.88</td>\n",
       "    </tr>\n",
       "  </tbody>\n",
       "</table>\n",
       "<p>100 rows × 10 columns</p>\n",
       "</div>"
      ],
      "text/plain": [
       "                         대여일시  대여대여소        대여대여소이름  대여거치대  \\\n",
       "18274663  2022-06-16 19:13:38   1853  서울디자인직업전문학교 앞      0   \n",
       "18274664  2022-06-16 19:55:21    251  서울지방병무청 버스정류장      0   \n",
       "18274665  2022-06-16 22:51:32   1912       한신휴아파트 앞      0   \n",
       "18274666  2022-06-17 01:21:38   1913          구로리공원      0   \n",
       "18274667  2022-06-17 08:06:20    731   서울시 도로환경관리센터      0   \n",
       "...                       ...    ...            ...    ...   \n",
       "18274758  2022-06-28 21:21:40    255          도림사거리      0   \n",
       "18274759  2022-06-29 02:53:22    281       신동아아파트 앞     99   \n",
       "18274760  2022-06-29 10:15:15   1961     신도림테크노근린공원      0   \n",
       "18274761  2022-06-29 14:49:09   1961     신도림테크노근린공원      0   \n",
       "18274762  2022-06-30 22:24:05   1913          구로리공원      0   \n",
       "\n",
       "                         반납일시  반납대여소         반납대여소이름  반납거치대  이용시간     이용거리  \n",
       "18274663  2022-06-16 19:52:12   5852  대림동현대2차 201동 앞      0    38  4269.48  \n",
       "18274664  2022-06-16 20:40:11   5852  대림동현대2차 201동 앞      0    44  6790.00  \n",
       "18274665  2022-06-16 23:04:04   5852  대림동현대2차 201동 앞      0    12     0.00  \n",
       "18274666  2022-06-17 01:31:46   5852  대림동현대2차 201동 앞      0    10  1340.34  \n",
       "18274667  2022-06-17 08:24:51   5852  대림동현대2차 201동 앞      0    18  4470.00  \n",
       "...                       ...    ...             ...    ...   ...      ...  \n",
       "18274758  2022-06-28 21:28:13   5852  대림동현대2차 201동 앞      0     6   846.63  \n",
       "18274759  2022-06-29 02:59:24   5852  대림동현대2차 201동 앞     99     6   620.00  \n",
       "18274760  2022-06-29 10:20:31   5852  대림동현대2차 201동 앞      0     5   750.51  \n",
       "18274761  2022-06-29 15:49:09   5852  대림동현대2차 201동 앞      0    60   820.00  \n",
       "18274762  2022-06-30 22:34:23   5852  대림동현대2차 201동 앞      0    10  1671.88  \n",
       "\n",
       "[100 rows x 10 columns]"
      ]
     },
     "execution_count": 155,
     "metadata": {},
     "output_type": "execute_result"
    }
   ],
   "source": [
    "df_2022.tail(100)"
   ]
  },
  {
   "cell_type": "code",
   "execution_count": 152,
   "metadata": {},
   "outputs": [],
   "source": [
    "### 2022 dataframe과 대여소번호를 key로 삼아 자치구만 추가해주기\n",
    "df_2022_gu=pd.merge(left = df_2022 , right = rental_df_gu, how = \"outer\", on = \"대여대여소\")\n"
   ]
  },
  {
   "cell_type": "code",
   "execution_count": 156,
   "metadata": {},
   "outputs": [
    {
     "data": {
      "text/html": [
       "<div>\n",
       "<style scoped>\n",
       "    .dataframe tbody tr th:only-of-type {\n",
       "        vertical-align: middle;\n",
       "    }\n",
       "\n",
       "    .dataframe tbody tr th {\n",
       "        vertical-align: top;\n",
       "    }\n",
       "\n",
       "    .dataframe thead th {\n",
       "        text-align: right;\n",
       "    }\n",
       "</style>\n",
       "<table border=\"1\" class=\"dataframe\">\n",
       "  <thead>\n",
       "    <tr style=\"text-align: right;\">\n",
       "      <th></th>\n",
       "      <th>대여일시</th>\n",
       "      <th>대여대여소</th>\n",
       "      <th>대여대여소이름</th>\n",
       "      <th>대여거치대</th>\n",
       "      <th>반납일시</th>\n",
       "      <th>반납대여소</th>\n",
       "      <th>반납대여소이름</th>\n",
       "      <th>반납거치대</th>\n",
       "      <th>이용시간</th>\n",
       "      <th>이용거리</th>\n",
       "      <th>대여지역</th>\n",
       "    </tr>\n",
       "  </thead>\n",
       "  <tbody>\n",
       "    <tr>\n",
       "      <th>18271715</th>\n",
       "      <td>2022-06-21 17:47:06</td>\n",
       "      <td>4902</td>\n",
       "      <td>3645 구역삼세무서 교차로</td>\n",
       "      <td>0.0</td>\n",
       "      <td>2022-06-21 18:59:00</td>\n",
       "      <td>4559.0</td>\n",
       "      <td>신길역 2번출구</td>\n",
       "      <td>0.0</td>\n",
       "      <td>71.0</td>\n",
       "      <td>17353.37</td>\n",
       "      <td>강남구</td>\n",
       "    </tr>\n",
       "    <tr>\n",
       "      <th>18271716</th>\n",
       "      <td>2022-06-24 17:46:44</td>\n",
       "      <td>4902</td>\n",
       "      <td>3645 구역삼세무서 교차로</td>\n",
       "      <td>0.0</td>\n",
       "      <td>2022-06-24 18:49:07</td>\n",
       "      <td>4559.0</td>\n",
       "      <td>신길역 2번출구</td>\n",
       "      <td>0.0</td>\n",
       "      <td>62.0</td>\n",
       "      <td>12714.53</td>\n",
       "      <td>강남구</td>\n",
       "    </tr>\n",
       "    <tr>\n",
       "      <th>18271717</th>\n",
       "      <td>2022-06-28 19:12:07</td>\n",
       "      <td>4902</td>\n",
       "      <td>3645 구역삼세무서 교차로</td>\n",
       "      <td>0.0</td>\n",
       "      <td>2022-06-28 20:13:19</td>\n",
       "      <td>4603.0</td>\n",
       "      <td>한강GS에클라트 건너편 교통섬</td>\n",
       "      <td>0.0</td>\n",
       "      <td>61.0</td>\n",
       "      <td>11630.00</td>\n",
       "      <td>강남구</td>\n",
       "    </tr>\n",
       "    <tr>\n",
       "      <th>18271718</th>\n",
       "      <td>2022-06-03 22:35:22</td>\n",
       "      <td>4902</td>\n",
       "      <td>3645 구역삼세무서 교차로</td>\n",
       "      <td>0.0</td>\n",
       "      <td>2022-06-03 23:03:46</td>\n",
       "      <td>4863.0</td>\n",
       "      <td>잠실나들목5</td>\n",
       "      <td>0.0</td>\n",
       "      <td>28.0</td>\n",
       "      <td>4660.00</td>\n",
       "      <td>강남구</td>\n",
       "    </tr>\n",
       "    <tr>\n",
       "      <th>18271719</th>\n",
       "      <td>2022-06-12 03:23:40</td>\n",
       "      <td>4902</td>\n",
       "      <td>3645 구역삼세무서 교차로</td>\n",
       "      <td>99.0</td>\n",
       "      <td>2022-06-12 04:01:05</td>\n",
       "      <td>4876.0</td>\n",
       "      <td>삼전동주민센터 앞</td>\n",
       "      <td>99.0</td>\n",
       "      <td>37.0</td>\n",
       "      <td>6790.00</td>\n",
       "      <td>강남구</td>\n",
       "    </tr>\n",
       "    <tr>\n",
       "      <th>...</th>\n",
       "      <td>...</td>\n",
       "      <td>...</td>\n",
       "      <td>...</td>\n",
       "      <td>...</td>\n",
       "      <td>...</td>\n",
       "      <td>...</td>\n",
       "      <td>...</td>\n",
       "      <td>...</td>\n",
       "      <td>...</td>\n",
       "      <td>...</td>\n",
       "      <td>...</td>\n",
       "    </tr>\n",
       "    <tr>\n",
       "      <th>18271810</th>\n",
       "      <td>NaN</td>\n",
       "      <td>5752</td>\n",
       "      <td>NaN</td>\n",
       "      <td>NaN</td>\n",
       "      <td>NaN</td>\n",
       "      <td>NaN</td>\n",
       "      <td>NaN</td>\n",
       "      <td>NaN</td>\n",
       "      <td>NaN</td>\n",
       "      <td>NaN</td>\n",
       "      <td>송파구</td>\n",
       "    </tr>\n",
       "    <tr>\n",
       "      <th>18271811</th>\n",
       "      <td>NaN</td>\n",
       "      <td>5753</td>\n",
       "      <td>NaN</td>\n",
       "      <td>NaN</td>\n",
       "      <td>NaN</td>\n",
       "      <td>NaN</td>\n",
       "      <td>NaN</td>\n",
       "      <td>NaN</td>\n",
       "      <td>NaN</td>\n",
       "      <td>NaN</td>\n",
       "      <td>송파구</td>\n",
       "    </tr>\n",
       "    <tr>\n",
       "      <th>18271812</th>\n",
       "      <td>NaN</td>\n",
       "      <td>5853</td>\n",
       "      <td>NaN</td>\n",
       "      <td>NaN</td>\n",
       "      <td>NaN</td>\n",
       "      <td>NaN</td>\n",
       "      <td>NaN</td>\n",
       "      <td>NaN</td>\n",
       "      <td>NaN</td>\n",
       "      <td>NaN</td>\n",
       "      <td>영등포구</td>\n",
       "    </tr>\n",
       "    <tr>\n",
       "      <th>18271813</th>\n",
       "      <td>NaN</td>\n",
       "      <td>5854</td>\n",
       "      <td>NaN</td>\n",
       "      <td>NaN</td>\n",
       "      <td>NaN</td>\n",
       "      <td>NaN</td>\n",
       "      <td>NaN</td>\n",
       "      <td>NaN</td>\n",
       "      <td>NaN</td>\n",
       "      <td>NaN</td>\n",
       "      <td>영등포구</td>\n",
       "    </tr>\n",
       "    <tr>\n",
       "      <th>18271814</th>\n",
       "      <td>NaN</td>\n",
       "      <td>5855</td>\n",
       "      <td>NaN</td>\n",
       "      <td>NaN</td>\n",
       "      <td>NaN</td>\n",
       "      <td>NaN</td>\n",
       "      <td>NaN</td>\n",
       "      <td>NaN</td>\n",
       "      <td>NaN</td>\n",
       "      <td>NaN</td>\n",
       "      <td>영등포구</td>\n",
       "    </tr>\n",
       "  </tbody>\n",
       "</table>\n",
       "<p>100 rows × 11 columns</p>\n",
       "</div>"
      ],
      "text/plain": [
       "                         대여일시  대여대여소          대여대여소이름  대여거치대  \\\n",
       "18271715  2022-06-21 17:47:06   4902  3645 구역삼세무서 교차로    0.0   \n",
       "18271716  2022-06-24 17:46:44   4902  3645 구역삼세무서 교차로    0.0   \n",
       "18271717  2022-06-28 19:12:07   4902  3645 구역삼세무서 교차로    0.0   \n",
       "18271718  2022-06-03 22:35:22   4902  3645 구역삼세무서 교차로    0.0   \n",
       "18271719  2022-06-12 03:23:40   4902  3645 구역삼세무서 교차로   99.0   \n",
       "...                       ...    ...              ...    ...   \n",
       "18271810                  NaN   5752              NaN    NaN   \n",
       "18271811                  NaN   5753              NaN    NaN   \n",
       "18271812                  NaN   5853              NaN    NaN   \n",
       "18271813                  NaN   5854              NaN    NaN   \n",
       "18271814                  NaN   5855              NaN    NaN   \n",
       "\n",
       "                         반납일시   반납대여소           반납대여소이름  반납거치대  이용시간  \\\n",
       "18271715  2022-06-21 18:59:00  4559.0          신길역 2번출구    0.0  71.0   \n",
       "18271716  2022-06-24 18:49:07  4559.0          신길역 2번출구    0.0  62.0   \n",
       "18271717  2022-06-28 20:13:19  4603.0  한강GS에클라트 건너편 교통섬    0.0  61.0   \n",
       "18271718  2022-06-03 23:03:46  4863.0            잠실나들목5    0.0  28.0   \n",
       "18271719  2022-06-12 04:01:05  4876.0         삼전동주민센터 앞   99.0  37.0   \n",
       "...                       ...     ...               ...    ...   ...   \n",
       "18271810                  NaN     NaN               NaN    NaN   NaN   \n",
       "18271811                  NaN     NaN               NaN    NaN   NaN   \n",
       "18271812                  NaN     NaN               NaN    NaN   NaN   \n",
       "18271813                  NaN     NaN               NaN    NaN   NaN   \n",
       "18271814                  NaN     NaN               NaN    NaN   NaN   \n",
       "\n",
       "              이용거리  대여지역  \n",
       "18271715  17353.37   강남구  \n",
       "18271716  12714.53   강남구  \n",
       "18271717  11630.00   강남구  \n",
       "18271718   4660.00   강남구  \n",
       "18271719   6790.00   강남구  \n",
       "...            ...   ...  \n",
       "18271810       NaN   송파구  \n",
       "18271811       NaN   송파구  \n",
       "18271812       NaN  영등포구  \n",
       "18271813       NaN  영등포구  \n",
       "18271814       NaN  영등포구  \n",
       "\n",
       "[100 rows x 11 columns]"
      ]
     },
     "execution_count": 156,
     "metadata": {},
     "output_type": "execute_result"
    }
   ],
   "source": [
    "df_2022_gu.tail(100)"
   ]
  },
  {
   "cell_type": "code",
   "execution_count": 120,
   "metadata": {},
   "outputs": [
    {
     "ename": "KeyError",
     "evalue": "'대여지역'",
     "output_type": "error",
     "traceback": [
      "\u001b[0;31m---------------------------------------------------------------------------\u001b[0m",
      "\u001b[0;31mKeyError\u001b[0m                                  Traceback (most recent call last)",
      "\u001b[0;32m/tmp/ipykernel_7421/3718842264.py\u001b[0m in \u001b[0;36m<module>\u001b[0;34m\u001b[0m\n\u001b[0;32m----> 1\u001b[0;31m \u001b[0m_df\u001b[0m \u001b[0;34m=\u001b[0m \u001b[0mdf_2022\u001b[0m\u001b[0;34m[\u001b[0m\u001b[0mdf_2022\u001b[0m\u001b[0;34m[\u001b[0m\u001b[0;34m'대여요일'\u001b[0m\u001b[0;34m]\u001b[0m \u001b[0;34m<\u001b[0m \u001b[0;36m5\u001b[0m\u001b[0;34m]\u001b[0m\u001b[0;34m.\u001b[0m\u001b[0mgroupby\u001b[0m\u001b[0;34m(\u001b[0m\u001b[0;34m[\u001b[0m\u001b[0;34m'대여지역'\u001b[0m\u001b[0;34m,\u001b[0m \u001b[0;34m'대여시간'\u001b[0m\u001b[0;34m]\u001b[0m\u001b[0;34m)\u001b[0m\u001b[0;34m.\u001b[0m\u001b[0msize\u001b[0m\u001b[0;34m(\u001b[0m\u001b[0;34m)\u001b[0m \u001b[0;34m//\u001b[0m \u001b[0;36m5\u001b[0m\u001b[0;34m\u001b[0m\u001b[0;34m\u001b[0m\u001b[0m\n\u001b[0m\u001b[1;32m      2\u001b[0m \u001b[0m_df\u001b[0m\u001b[0;34m\u001b[0m\u001b[0;34m\u001b[0m\u001b[0m\n",
      "\u001b[0;32m~/ddareung/seoulbike/lib/python3.7/site-packages/pandas/core/frame.py\u001b[0m in \u001b[0;36mgroupby\u001b[0;34m(self, by, axis, level, as_index, sort, group_keys, squeeze, observed, dropna)\u001b[0m\n\u001b[1;32m   7639\u001b[0m             \u001b[0msqueeze\u001b[0m\u001b[0;34m=\u001b[0m\u001b[0msqueeze\u001b[0m\u001b[0;34m,\u001b[0m  \u001b[0;31m# type: ignore[arg-type]\u001b[0m\u001b[0;34m\u001b[0m\u001b[0;34m\u001b[0m\u001b[0m\n\u001b[1;32m   7640\u001b[0m             \u001b[0mobserved\u001b[0m\u001b[0;34m=\u001b[0m\u001b[0mobserved\u001b[0m\u001b[0;34m,\u001b[0m\u001b[0;34m\u001b[0m\u001b[0;34m\u001b[0m\u001b[0m\n\u001b[0;32m-> 7641\u001b[0;31m             \u001b[0mdropna\u001b[0m\u001b[0;34m=\u001b[0m\u001b[0mdropna\u001b[0m\u001b[0;34m,\u001b[0m\u001b[0;34m\u001b[0m\u001b[0;34m\u001b[0m\u001b[0m\n\u001b[0m\u001b[1;32m   7642\u001b[0m         )\n\u001b[1;32m   7643\u001b[0m \u001b[0;34m\u001b[0m\u001b[0m\n",
      "\u001b[0;32m~/ddareung/seoulbike/lib/python3.7/site-packages/pandas/core/groupby/groupby.py\u001b[0m in \u001b[0;36m__init__\u001b[0;34m(self, obj, keys, axis, level, grouper, exclusions, selection, as_index, sort, group_keys, squeeze, observed, mutated, dropna)\u001b[0m\n\u001b[1;32m    895\u001b[0m                 \u001b[0mobserved\u001b[0m\u001b[0;34m=\u001b[0m\u001b[0mobserved\u001b[0m\u001b[0;34m,\u001b[0m\u001b[0;34m\u001b[0m\u001b[0;34m\u001b[0m\u001b[0m\n\u001b[1;32m    896\u001b[0m                 \u001b[0mmutated\u001b[0m\u001b[0;34m=\u001b[0m\u001b[0mself\u001b[0m\u001b[0;34m.\u001b[0m\u001b[0mmutated\u001b[0m\u001b[0;34m,\u001b[0m\u001b[0;34m\u001b[0m\u001b[0;34m\u001b[0m\u001b[0m\n\u001b[0;32m--> 897\u001b[0;31m                 \u001b[0mdropna\u001b[0m\u001b[0;34m=\u001b[0m\u001b[0mself\u001b[0m\u001b[0;34m.\u001b[0m\u001b[0mdropna\u001b[0m\u001b[0;34m,\u001b[0m\u001b[0;34m\u001b[0m\u001b[0;34m\u001b[0m\u001b[0m\n\u001b[0m\u001b[1;32m    898\u001b[0m             )\n\u001b[1;32m    899\u001b[0m \u001b[0;34m\u001b[0m\u001b[0m\n",
      "\u001b[0;32m~/ddareung/seoulbike/lib/python3.7/site-packages/pandas/core/groupby/grouper.py\u001b[0m in \u001b[0;36mget_grouper\u001b[0;34m(obj, key, axis, level, sort, observed, mutated, validate, dropna)\u001b[0m\n\u001b[1;32m    860\u001b[0m                 \u001b[0min_axis\u001b[0m\u001b[0;34m,\u001b[0m \u001b[0mlevel\u001b[0m\u001b[0;34m,\u001b[0m \u001b[0mgpr\u001b[0m \u001b[0;34m=\u001b[0m \u001b[0;32mFalse\u001b[0m\u001b[0;34m,\u001b[0m \u001b[0mgpr\u001b[0m\u001b[0;34m,\u001b[0m \u001b[0;32mNone\u001b[0m\u001b[0;34m\u001b[0m\u001b[0;34m\u001b[0m\u001b[0m\n\u001b[1;32m    861\u001b[0m             \u001b[0;32melse\u001b[0m\u001b[0;34m:\u001b[0m\u001b[0;34m\u001b[0m\u001b[0;34m\u001b[0m\u001b[0m\n\u001b[0;32m--> 862\u001b[0;31m                 \u001b[0;32mraise\u001b[0m \u001b[0mKeyError\u001b[0m\u001b[0;34m(\u001b[0m\u001b[0mgpr\u001b[0m\u001b[0;34m)\u001b[0m\u001b[0;34m\u001b[0m\u001b[0;34m\u001b[0m\u001b[0m\n\u001b[0m\u001b[1;32m    863\u001b[0m         \u001b[0;32melif\u001b[0m \u001b[0misinstance\u001b[0m\u001b[0;34m(\u001b[0m\u001b[0mgpr\u001b[0m\u001b[0;34m,\u001b[0m \u001b[0mGrouper\u001b[0m\u001b[0;34m)\u001b[0m \u001b[0;32mand\u001b[0m \u001b[0mgpr\u001b[0m\u001b[0;34m.\u001b[0m\u001b[0mkey\u001b[0m \u001b[0;32mis\u001b[0m \u001b[0;32mnot\u001b[0m \u001b[0;32mNone\u001b[0m\u001b[0;34m:\u001b[0m\u001b[0;34m\u001b[0m\u001b[0;34m\u001b[0m\u001b[0m\n\u001b[1;32m    864\u001b[0m             \u001b[0;31m# Add key to exclusions\u001b[0m\u001b[0;34m\u001b[0m\u001b[0;34m\u001b[0m\u001b[0;34m\u001b[0m\u001b[0m\n",
      "\u001b[0;31mKeyError\u001b[0m: '대여지역'"
     ]
    }
   ],
   "source": [
    "_df = df_2022[df_2022['대여요일'] < 5].groupby(['대여지역', '대여시간']).size() // 5\n",
    "_df"
   ]
  },
  {
   "cell_type": "code",
   "execution_count": 16,
   "metadata": {},
   "outputs": [
    {
     "data": {
      "text/html": [
       "<div>\n",
       "<style scoped>\n",
       "    .dataframe tbody tr th:only-of-type {\n",
       "        vertical-align: middle;\n",
       "    }\n",
       "\n",
       "    .dataframe tbody tr th {\n",
       "        vertical-align: top;\n",
       "    }\n",
       "\n",
       "    .dataframe thead th {\n",
       "        text-align: right;\n",
       "    }\n",
       "</style>\n",
       "<table border=\"1\" class=\"dataframe\">\n",
       "  <thead>\n",
       "    <tr style=\"text-align: right;\">\n",
       "      <th></th>\n",
       "      <th>반납대여소이름</th>\n",
       "      <th>반납대여소</th>\n",
       "      <th>반납수</th>\n",
       "    </tr>\n",
       "  </thead>\n",
       "  <tbody>\n",
       "    <tr>\n",
       "      <th>0</th>\n",
       "      <td>(시립)고덕평생학습관</td>\n",
       "      <td>1070</td>\n",
       "      <td>3529</td>\n",
       "    </tr>\n",
       "    <tr>\n",
       "      <th>1</th>\n",
       "      <td>(재)FITI시험연구원</td>\n",
       "      <td>2724</td>\n",
       "      <td>9016</td>\n",
       "    </tr>\n",
       "    <tr>\n",
       "      <th>2</th>\n",
       "      <td>3645 구역삼세무서 교차로</td>\n",
       "      <td>4902</td>\n",
       "      <td>1814</td>\n",
       "    </tr>\n",
       "    <tr>\n",
       "      <th>3</th>\n",
       "      <td>3919 CGV구로 앞</td>\n",
       "      <td>3886</td>\n",
       "      <td>5835</td>\n",
       "    </tr>\n",
       "    <tr>\n",
       "      <th>4</th>\n",
       "      <td>3호선 매봉역 3번출구앞</td>\n",
       "      <td>2335</td>\n",
       "      <td>10406</td>\n",
       "    </tr>\n",
       "    <tr>\n",
       "      <th>...</th>\n",
       "      <td>...</td>\n",
       "      <td>...</td>\n",
       "      <td>...</td>\n",
       "    </tr>\n",
       "    <tr>\n",
       "      <th>2627</th>\n",
       "      <td>흥국사 정류장</td>\n",
       "      <td>991</td>\n",
       "      <td>819</td>\n",
       "    </tr>\n",
       "    <tr>\n",
       "      <th>2628</th>\n",
       "      <td>희성오피앙</td>\n",
       "      <td>1639</td>\n",
       "      <td>7217</td>\n",
       "    </tr>\n",
       "    <tr>\n",
       "      <th>2629</th>\n",
       "      <td>희훈타워빌 앞</td>\n",
       "      <td>3905</td>\n",
       "      <td>9409</td>\n",
       "    </tr>\n",
       "    <tr>\n",
       "      <th>2630</th>\n",
       "      <td>힐스테이트에코</td>\n",
       "      <td>2720</td>\n",
       "      <td>20033</td>\n",
       "    </tr>\n",
       "    <tr>\n",
       "      <th>2631</th>\n",
       "      <td>힐스테이트클래시안아파트</td>\n",
       "      <td>4569</td>\n",
       "      <td>5524</td>\n",
       "    </tr>\n",
       "  </tbody>\n",
       "</table>\n",
       "<p>2632 rows × 3 columns</p>\n",
       "</div>"
      ],
      "text/plain": [
       "              반납대여소이름  반납대여소    반납수\n",
       "0         (시립)고덕평생학습관   1070   3529\n",
       "1        (재)FITI시험연구원   2724   9016\n",
       "2     3645 구역삼세무서 교차로   4902   1814\n",
       "3        3919 CGV구로 앞   3886   5835\n",
       "4       3호선 매봉역 3번출구앞   2335  10406\n",
       "...               ...    ...    ...\n",
       "2627          흥국사 정류장    991    819\n",
       "2628            희성오피앙   1639   7217\n",
       "2629          희훈타워빌 앞   3905   9409\n",
       "2630          힐스테이트에코   2720  20033\n",
       "2631     힐스테이트클래시안아파트   4569   5524\n",
       "\n",
       "[2632 rows x 3 columns]"
      ]
     },
     "execution_count": 16,
     "metadata": {},
     "output_type": "execute_result"
    }
   ],
   "source": [
    "df_return_group = df_2022.groupby([\"반납대여소이름\",\"반납대여소\"])[\"반납일시\"].count()\n",
    "df_return = pd.DataFrame(df_return_group).reset_index()\n",
    "df_return.columns = [\"반납대여소이름\",\"반납대여소\", \"반납수\"]\n",
    "df_return"
   ]
  },
  {
   "cell_type": "code",
   "execution_count": 38,
   "metadata": {},
   "outputs": [
    {
     "name": "stdout",
     "output_type": "stream",
     "text": [
      "위도: 37.52715683 ,경도: 126.9319\n"
     ]
    }
   ],
   "source": [
    "# df_207=rental_df[rental_df['대여소번호']==207]\n",
    "# df_207_lat=df_207.iloc[0]['위도']\n",
    "# df_207_lon=df_207.iloc[0]['경도']\n",
    "# print('위도: {0} ,경도: {1}'.format(df_207_lat,df_207_lon))"
   ]
  },
  {
   "cell_type": "code",
   "execution_count": 95,
   "metadata": {},
   "outputs": [
    {
     "data": {
      "text/plain": [
       "(23, 7)"
      ]
     },
     "execution_count": 95,
     "metadata": {},
     "output_type": "execute_result"
    }
   ],
   "source": [
    "near_df_207=rental_df.loc[(rental_df['자치구']=='영등포구') & (rental_df['위도']<37.54) & (rental_df['위도']>37.52)& (rental_df['경도']>126.92) & (rental_df['경도']<126.95)]\n",
    "near_df_207.shape"
   ]
  },
  {
   "cell_type": "code",
   "execution_count": null,
   "metadata": {},
   "outputs": [],
   "source": [
    "for row in near_df_207.itertuples():\n",
    "    print(row)"
   ]
  },
  {
   "cell_type": "code",
   "execution_count": 97,
   "metadata": {},
   "outputs": [
    {
     "data": {
      "text/html": [
       "<div>\n",
       "<style scoped>\n",
       "    .dataframe tbody tr th:only-of-type {\n",
       "        vertical-align: middle;\n",
       "    }\n",
       "\n",
       "    .dataframe tbody tr th {\n",
       "        vertical-align: top;\n",
       "    }\n",
       "\n",
       "    .dataframe thead th {\n",
       "        text-align: right;\n",
       "    }\n",
       "</style>\n",
       "<table border=\"1\" class=\"dataframe\">\n",
       "  <thead>\n",
       "    <tr style=\"text-align: right;\">\n",
       "      <th></th>\n",
       "      <th>대여소번호</th>\n",
       "      <th>보관소(대여소)명</th>\n",
       "      <th>자치구</th>\n",
       "      <th>상세주소</th>\n",
       "      <th>위도</th>\n",
       "      <th>경도</th>\n",
       "      <th>거치대개수</th>\n",
       "    </tr>\n",
       "  </thead>\n",
       "  <tbody>\n",
       "    <tr>\n",
       "      <th>84</th>\n",
       "      <td>201</td>\n",
       "      <td>진미파라곤 앞</td>\n",
       "      <td>영등포구</td>\n",
       "      <td>서울특별시 영등포구 국회대로76길 10</td>\n",
       "      <td>37.531239</td>\n",
       "      <td>126.921333</td>\n",
       "      <td>15</td>\n",
       "    </tr>\n",
       "    <tr>\n",
       "      <th>85</th>\n",
       "      <td>202</td>\n",
       "      <td>국민일보 앞</td>\n",
       "      <td>영등포구</td>\n",
       "      <td>서울특별시 영등포구 여의공원로 101</td>\n",
       "      <td>37.528816</td>\n",
       "      <td>126.924530</td>\n",
       "      <td>30</td>\n",
       "    </tr>\n",
       "    <tr>\n",
       "      <th>88</th>\n",
       "      <td>205</td>\n",
       "      <td>산업은행 앞</td>\n",
       "      <td>영등포구</td>\n",
       "      <td>서울특별시 영등포구 의사당대로 97</td>\n",
       "      <td>37.526264</td>\n",
       "      <td>126.920509</td>\n",
       "      <td>20</td>\n",
       "    </tr>\n",
       "    <tr>\n",
       "      <th>90</th>\n",
       "      <td>207</td>\n",
       "      <td>여의나루역 1번출구 앞</td>\n",
       "      <td>영등포구</td>\n",
       "      <td>서울특별시 영등포구 여의동로 지하343</td>\n",
       "      <td>37.527157</td>\n",
       "      <td>126.931900</td>\n",
       "      <td>46</td>\n",
       "    </tr>\n",
       "    <tr>\n",
       "      <th>91</th>\n",
       "      <td>209</td>\n",
       "      <td>유진투자증권빌딩 앞</td>\n",
       "      <td>영등포구</td>\n",
       "      <td>서울특별시 영등포구 국제금융로 24</td>\n",
       "      <td>37.524612</td>\n",
       "      <td>126.927834</td>\n",
       "      <td>12</td>\n",
       "    </tr>\n",
       "  </tbody>\n",
       "</table>\n",
       "</div>"
      ],
      "text/plain": [
       "    대여소번호     보관소(대여소)명   자치구                   상세주소         위도          경도  \\\n",
       "84    201       진미파라곤 앞  영등포구  서울특별시 영등포구 국회대로76길 10  37.531239  126.921333   \n",
       "85    202        국민일보 앞  영등포구   서울특별시 영등포구 여의공원로 101  37.528816  126.924530   \n",
       "88    205        산업은행 앞  영등포구    서울특별시 영등포구 의사당대로 97  37.526264  126.920509   \n",
       "90    207  여의나루역 1번출구 앞  영등포구  서울특별시 영등포구 여의동로 지하343  37.527157  126.931900   \n",
       "91    209    유진투자증권빌딩 앞  영등포구    서울특별시 영등포구 국제금융로 24  37.524612  126.927834   \n",
       "\n",
       "    거치대개수  \n",
       "84     15  \n",
       "85     30  \n",
       "88     20  \n",
       "90     46  \n",
       "91     12  "
      ]
     },
     "execution_count": 97,
     "metadata": {},
     "output_type": "execute_result"
    }
   ],
   "source": [
    "near_df_207.head()"
   ]
  },
  {
   "cell_type": "code",
   "execution_count": 99,
   "metadata": {},
   "outputs": [],
   "source": [
    "# 지도의 중심 찾기\n",
    "from folium.plugins import MarkerCluster\n",
    "\n",
    "lat=rental_df['위도'].mean()\n",
    "long=rental_df['경도'].mean()\n",
    "myMap = folium.Map([lat, long], zoom_start = 9)\n",
    "\n",
    "coords = []\n",
    "for i in range(len(rental_df)-1):\n",
    "    x = rental_df['위도'][i]\n",
    "    y = rental_df['경도'][i]\n",
    "    coords.append([x, y])\n",
    "    \n",
    "for i in range(len(coords)):\n",
    "    folium.Circle(\n",
    "        location = coords[i],\n",
    "        radius = 150,\n",
    "        color = '#000000',\n",
    "        fill = 'crimson',\n",
    "    ).add_to(myMap)\n",
    "    \n",
    "folium.Marker([37.527157, 126.9319],\n",
    "  popup=\"여의나루역 1번출구 앞\",\n",
    "  icon=folium.Icon(color='green', icon='fa-bicycle',prefix='fa')).add_to(myMap)\n",
    "\n",
    "folium.CircleMarker([37.527157, 126.9319],\n",
    "  radius=100,\n",
    "  color='blue',\n",
    "  fill_color='skyblue').add_to(myMap)\n",
    "\n",
    "def plot(df):\n",
    "    # 리스트를 이용해 여러 행의 데이터를 위,경도로 묶음\n",
    "    locations = list(zip(df.위도, df.경도))\n",
    "    # 반복문을 이용해 locations로 정의한 변수에 해당하는 위치에 자동차 모양의 빨간색 아이콘을 지정했다.\n",
    "    icons = [folium.Icon(icon='fa-bicycle', prefix=\"fa\", color=\"blue\") for _ in range(len(locations))]\n",
    "\n",
    "    # 역시 같은 원리로 아이콘을 클릭했을 때, 팝업이 생성되게 할 예정인데, 먼저 팝업 안에 들어갈 내용을 지정한다.\n",
    "    popup_content = []\n",
    "    for information in df.itertuples():\n",
    "        # 팝업을 클릭했을 때, 시간이 나오게 하고 싶다.\n",
    "        # datetime 컬럼을 pd.to_datetime 기능을 활용하여 hh:mm 포맷으로 time이라는 컬럼을 사전에 미리 만들었다.\n",
    "        content = \"<b>대여소번호 :{}</b>  <br /> 대여소명: {}\".format(information.대여소번호, information._2)\n",
    "        popup_content.append(content)\n",
    "\n",
    "    # 팝업을 생성한다.\n",
    "    popups = [folium.Popup(content, min_width=300, max_width=300) for content in popup_content]\n",
    "\n",
    "    # 클러스터를 생성하여 앞에서 지정한 locations, icons, popups를 설정해준다.\n",
    "    cluster = MarkerCluster(locations = locations, icons = icons, popups = popups,)\n",
    "    # 지도에 클러스터를 추가.\n",
    "    cluster.add_to(myMap)\n",
    "    \n",
    "plot(near_df_207)\n",
    "myMap.save('index.html')"
   ]
  },
  {
   "cell_type": "code",
   "execution_count": 147,
   "metadata": {},
   "outputs": [
    {
     "name": "stdout",
     "output_type": "stream",
     "text": [
      "반납량 많은 상위 대여소 top 10\n",
      "             반납대여소이름  반납대여소    반납수\n",
      "778   뚝섬유원지역 1번출구 앞    502  81191\n",
      "2454     한강공원 망원나들목   4217  75121\n",
      "1831   여의나루역 1번출구 앞    207  67325\n",
      "834     마곡나루역 2번 출구   2715  65651\n",
      "1110        봉림교 교통섬   2102  52390\n",
      "...             ...    ...    ...\n",
      "2042          위트콤공장     11      4\n",
      "2398        테스트 대여소   9979      3\n",
      "2041            위트콤     10      3\n",
      "1252         상암단말정비  99998      2\n",
      "100           _도봉센터   9990      1\n",
      "\n",
      "[2632 rows x 3 columns]\n"
     ]
    }
   ],
   "source": [
    "# 대여량이 많은 상위 대여소 \n",
    "# for i in range(5):\n",
    "#     print('반납량 많은 상위 대여소 top 10\\n',df[i]['반납대여소이름'].value_counts().head(5))\n",
    "print('반납량 많은 상위 대여소 top 10\\n',df_return.sort_values('반납수',ascending=False))"
   ]
  },
  {
   "attachments": {},
   "cell_type": "markdown",
   "metadata": {},
   "source": [
    "## 2018 전처리 한거 좀 column에 작은따옴표 붙어있음"
   ]
  },
  {
   "cell_type": "code",
   "execution_count": 98,
   "metadata": {},
   "outputs": [],
   "source": [
    "print(df[4]['대여대여소이름'].dtypes)\n",
    "df[4]['대여대여소이름']=df[4]['대여대여소이름'].astype('object')\n",
    "df[4]['대여대여소이름']=df[4]['대여대여소이름'].str.replace(\"'\",\"\")\n",
    "#2018\n",
    "df[4].head()\n",
    "df[4]['대여대여소이름']=df[4]['대여대여소이름'].str.strip()"
   ]
  },
  {
   "attachments": {},
   "cell_type": "markdown",
   "metadata": {},
   "source": []
  }
 ],
 "metadata": {
  "kernelspec": {
   "display_name": "seoulbike",
   "language": "python",
   "name": "python3"
  },
  "language_info": {
   "codemirror_mode": {
    "name": "ipython",
    "version": 3
   },
   "file_extension": ".py",
   "mimetype": "text/x-python",
   "name": "python",
   "nbconvert_exporter": "python",
   "pygments_lexer": "ipython3",
   "version": "3.7.13"
  },
  "orig_nbformat": 4,
  "vscode": {
   "interpreter": {
    "hash": "3030dd0efcb9e60c76b222dd94f30a13d82bc6ebbad9b8c1f6346e9f4032faec"
   }
  }
 },
 "nbformat": 4,
 "nbformat_minor": 2
}
